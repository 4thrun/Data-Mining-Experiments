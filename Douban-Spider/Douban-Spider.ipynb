{
 "cells": [
  {
   "cell_type": "code",
   "execution_count": 1,
   "metadata": {
    "collapsed": false
   },
   "outputs": [
    {
     "name": "stdout",
     "output_type": "stream",
     "text": [
      "Looking in indexes: https://mirror.baidu.com/pypi/simple/\n",
      "Collecting requests==2.25.1\n",
      "\u001b[?25l  Downloading https://mirror.baidu.com/pypi/packages/29/c1/24814557f1d22c56d50280771a17307e6bf87b70727d975fd6b2ce6b014a/requests-2.25.1-py2.py3-none-any.whl (61kB)\n",
      "\u001b[K     |████████████████████████████████| 61kB 25.5MB/s eta 0:00:01\n",
      "\u001b[?25hRequirement already satisfied: idna<3,>=2.5 in /opt/conda/envs/python35-paddle120-env/lib/python3.7/site-packages (from requests==2.25.1) (2.8)\n",
      "Requirement already satisfied: urllib3<1.27,>=1.21.1 in /opt/conda/envs/python35-paddle120-env/lib/python3.7/site-packages (from requests==2.25.1) (1.25.6)\n",
      "Requirement already satisfied: chardet<5,>=3.0.2 in /opt/conda/envs/python35-paddle120-env/lib/python3.7/site-packages (from requests==2.25.1) (3.0.4)\n",
      "Requirement already satisfied: certifi>=2017.4.17 in /opt/conda/envs/python35-paddle120-env/lib/python3.7/site-packages (from requests==2.25.1) (2019.9.11)\n",
      "Installing collected packages: requests\n",
      "  Found existing installation: requests 2.22.0\n",
      "    Uninstalling requests-2.22.0:\n",
      "      Successfully uninstalled requests-2.22.0\n",
      "Successfully installed requests-2.25.1\n",
      "Looking in indexes: https://mirror.baidu.com/pypi/simple/\n",
      "Collecting openpyxl==3.0.7\n",
      "\u001b[?25l  Downloading https://mirror.baidu.com/pypi/packages/39/08/595298c9b7ced75e7d23be3e7596459980d63bc35112ca765ceccafbe9a4/openpyxl-3.0.7-py2.py3-none-any.whl (243kB)\n",
      "\u001b[K     |████████████████████████████████| 245kB 23.1MB/s eta 0:00:01\n",
      "\u001b[?25hRequirement already satisfied: et-xmlfile in /opt/conda/envs/python35-paddle120-env/lib/python3.7/site-packages (from openpyxl==3.0.7) (1.0.1)\n",
      "Installing collected packages: openpyxl\n",
      "  Found existing installation: openpyxl 3.0.5\n",
      "    Uninstalling openpyxl-3.0.5:\n",
      "      Successfully uninstalled openpyxl-3.0.5\n",
      "Successfully installed openpyxl-3.0.7\n",
      "Looking in indexes: https://mirror.baidu.com/pypi/simple/\n",
      "Collecting beautifulsoup4==4.9.3\n",
      "\u001b[?25l  Downloading https://mirror.baidu.com/pypi/packages/d1/41/e6495bd7d3781cee623ce23ea6ac73282a373088fcd0ddc809a047b18eae/beautifulsoup4-4.9.3-py3-none-any.whl (115kB)\n",
      "\u001b[K     |████████████████████████████████| 122kB 27.9MB/s eta 0:00:01\n",
      "\u001b[?25hCollecting soupsieve>1.2; python_version >= \"3.0\" (from beautifulsoup4==4.9.3)\n",
      "  Downloading https://mirror.baidu.com/pypi/packages/36/69/d82d04022f02733bf9a72bc3b96332d360c0c5307096d76f6bb7489f7e57/soupsieve-2.2.1-py3-none-any.whl\n",
      "Installing collected packages: soupsieve, beautifulsoup4\n",
      "Successfully installed beautifulsoup4-4.9.3 soupsieve-2.2.1\n"
     ]
    }
   ],
   "source": [
    "!pip install requests==2.25.1\r\n",
    "!pip install openpyxl==3.0.7\r\n",
    "!pip install beautifulsoup4==4.9.3"
   ]
  },
  {
   "cell_type": "code",
   "execution_count": 2,
   "metadata": {
    "collapsed": false
   },
   "outputs": [],
   "source": [
    "import requests \r\n",
    "from bs4 import BeautifulSoup\r\n",
    "import openpyxl\r\n",
    "import time \r\n",
    "import re "
   ]
  },
  {
   "cell_type": "code",
   "execution_count": 3,
   "metadata": {
    "collapsed": false
   },
   "outputs": [],
   "source": [
    "# fetchURL: basic function to get HTML\r\n",
    "def fetchURL(url): \r\n",
    "    headers = {\r\n",
    "        \"User-Agent\": \"Mozilla/5.0 (Windows NT 10.0; Win64; x64) \"\\\r\n",
    "        \"AppleWebKit/537.36 (KHTML, like Gecko) Chrome/92.0.4515.159 Safari/537.36 Edg/92.0.902.84\"\r\n",
    "    }\r\n",
    "    r = requests.get(url=url, headers=headers)\r\n",
    "    if r.status_code != 200:\r\n",
    "        print(\"Status Code: {}\".format(r.status_code))\r\n",
    "        return \"\"\r\n",
    "    else:\r\n",
    "        html = r.text\r\n",
    "        return html "
   ]
  },
  {
   "cell_type": "code",
   "execution_count": 4,
   "metadata": {
    "collapsed": false
   },
   "outputs": [],
   "source": [
    "# fetchData: get valuable data \r\n",
    "def fetchData(basic):\r\n",
    "    # regex patterns \r\n",
    "    linkPattern = re.compile(r'<a href=\"(.*?)\">') # video detail \r\n",
    "    imgPattern = re.compile(r'<img.*src=\"(.*?)\"', re.S) # img URL \r\n",
    "    titlePattern = re.compile(r'<span class=\"title\">(.*)</span>') # title \r\n",
    "    ratingPattern = re.compile(r'<span class=\"rating_num\" property=\"v:average\">(.*)</span>') # rating \r\n",
    "    commentPattern = re.compile(r'<span>(\\d*)人评价</span>') # number of comments \r\n",
    "    overviewPattern = re.compile(r'<span class=\"inq\">(.*)</span>') # overview \r\n",
    "    infoPattern = re.compile(r'<p class=\"\">(.*?)</p>',re.S) # director and more \r\n",
    "\r\n",
    "    removePattern = re.compile(r'                            |\\n|</br>|\\.*') # irrelevant content\r\n",
    "    brPattern = re.compile(r'<br(\\s+)?\\/?>(\\s+)?') # <br> \r\n",
    "\r\n",
    "    # empty data list \r\n",
    "    datalist = list()\r\n",
    "\r\n",
    "    # fetch 10 pages \r\n",
    "    for i in range(0, 10):\r\n",
    "        url = basic + str(25*i)\r\n",
    "        html = fetchURL(url)\r\n",
    "        soup = BeautifulSoup(html, \"html.parser\")\r\n",
    "        for item in soup.find_all(\"div\", class_='item'):\r\n",
    "            data = list()\r\n",
    "            item = str(item)\r\n",
    "            # data \r\n",
    "            link = re.findall(linkPattern, item)[0]\r\n",
    "            img = re.findall(imgPattern, item)[0]\r\n",
    "            data.append(link)\r\n",
    "            data.append(img)\r\n",
    "\r\n",
    "            titles= re.findall(titlePattern, item) \r\n",
    "            # check if the movie has both a Chinese title and a foreign language title \r\n",
    "            if(len(titles)>1):\r\n",
    "                ctitle = titles[0]\r\n",
    "                ftitle = titles[1].replace(\"/\", \"\")\r\n",
    "                data.append(ctitle)\r\n",
    "                data.append(ftitle)\r\n",
    "            else:\r\n",
    "                data.append(titles[0])\r\n",
    "                data.append(\" \")\r\n",
    "            \r\n",
    "            rating = re.findall(ratingPattern, item)[0]\r\n",
    "            data.append(rating)\r\n",
    "\r\n",
    "            comment = re.findall(commentPattern, item)[0]\r\n",
    "            data.append(comment)\r\n",
    "\r\n",
    "            overview = re.findall(overviewPattern, item)\r\n",
    "            if len(overview) != 0:\r\n",
    "                overview = overview[0].replace(\"。\", '')\r\n",
    "                data.append(overview)\r\n",
    "            else:\r\n",
    "                data.append(\" \")\r\n",
    "            \r\n",
    "            info = re.findall(infoPattern, item)[0]\r\n",
    "            info = re.sub(removePattern, \"\", info)\r\n",
    "            info = re.sub(brPattern, \" \", info)\r\n",
    "            info = re.sub('/', \" \", info)\r\n",
    "            data.append(info.strip())\r\n",
    "\r\n",
    "            datalist.append(data)\r\n",
    "        time.sleep(0.5)\r\n",
    "    time.sleep(0.2)\r\n",
    "    return datalist"
   ]
  },
  {
   "cell_type": "code",
   "execution_count": 5,
   "metadata": {
    "collapsed": false
   },
   "outputs": [],
   "source": [
    "def saveData(datalist, datapath):\r\n",
    "    book = openpyxl.Workbook()\r\n",
    "    sheet = book.create_sheet(\"Douban Movie Top 250\")\r\n",
    "    col = ('URL', \"Poster\", \"Chinese Title\", \"Foreign Language Title\", \r\n",
    "    \"Ratings\", \"Number of Comments\", \"Overview\", \"More Info\")\r\n",
    "    sheet.append(col)\r\n",
    "    for i in range(0, 250):\r\n",
    "        data = datalist[i]\r\n",
    "        for j in range(0, 8):\r\n",
    "            sheet.cell(row=(i+2), column=(j+1), value=data[j])\r\n",
    "    book.save(datapath)"
   ]
  },
  {
   "cell_type": "code",
   "execution_count": 6,
   "metadata": {
    "collapsed": false
   },
   "outputs": [
    {
     "name": "stdout",
     "output_type": "stream",
     "text": [
      "spider launched...\n",
      "finished\n"
     ]
    }
   ],
   "source": [
    "if __name__ == \"__main__\":\r\n",
    "    print(\"spider launched...\")\r\n",
    "    basic = \"https://movie.douban.com/top250?start=\"\r\n",
    "    datalist = fetchData(basic)\r\n",
    "    # datapath = u'./DoubanMovieTop250.xlsx'\r\n",
    "    datapath = u'/home/aistudio/data/DoubanMovieTop250.xlsx'\r\n",
    "    saveData(datalist=datalist, datapath=datapath)\r\n",
    "    print(\"finished\")"
   ]
  }
 ],
 "metadata": {
  "kernelspec": {
   "display_name": "PaddlePaddle 2.1.2 (Python 3.5)",
   "language": "python",
   "name": "py35-paddle1.2.0"
  },
  "language_info": {
   "codemirror_mode": {
    "name": "ipython",
    "version": 3
   },
   "file_extension": ".py",
   "mimetype": "text/x-python",
   "name": "python",
   "nbconvert_exporter": "python",
   "pygments_lexer": "ipython3",
   "version": "3.7.4"
  }
 },
 "nbformat": 4,
 "nbformat_minor": 1
}
