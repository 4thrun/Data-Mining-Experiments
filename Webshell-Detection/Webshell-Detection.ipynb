{
 "cells": [
  {
   "cell_type": "markdown",
   "metadata": {},
   "source": [
    "# Webshell\\-Detection \n",
    "\n",
    "Steps:\n"
   ]
  },
  {
   "cell_type": "code",
   "execution_count": 1,
   "metadata": {},
   "outputs": [],
   "source": [
    "# !pip install pandas==1.3.4"
   ]
  },
  {
   "cell_type": "code",
   "execution_count": 2,
   "metadata": {},
   "outputs": [],
   "source": [
    "import os \n",
    "\n",
    "\n",
    "data_path = \"./data/\"\n",
    "php_benign_path = os.path.join(data_path, \"php-benign/\")\n",
    "php_webshell_path = os.path.join(data_path, \"php-webshell/\")\n",
    "save_path = os.path.join(data_path, \"save/\")\n",
    "opcode_blacklist_path = os.path.join(save_path, \"opcode_blacklist.csv\")\n",
    "opcode_whitelist_path = os.path.join(save_path, \"opcode_whitelist.csv\")"
   ]
  },
  {
   "cell_type": "markdown",
   "metadata": {},
   "source": [
    "## 1\\. Opcode "
   ]
  },
  {
   "cell_type": "code",
   "execution_count": 3,
   "metadata": {},
   "outputs": [],
   "source": [
    "from utils import load_php_opcode_from_dir_with_file"
   ]
  },
  {
   "cell_type": "code",
   "execution_count": 4,
   "metadata": {},
   "outputs": [
    {
     "name": "stdout",
     "output_type": "stream",
     "text": [
      "[+] load PHP opcode from dir: ./data/php-webshell/\n",
      "[*] done\n"
     ]
    }
   ],
   "source": [
    "# blacklist \n",
    "load_php_opcode_from_dir_with_file(php_webshell_path, opcode_blacklist_path)"
   ]
  },
  {
   "cell_type": "code",
   "execution_count": 5,
   "metadata": {},
   "outputs": [
    {
     "name": "stdout",
     "output_type": "stream",
     "text": [
      "[+] load PHP opcode from dir: ./data/php-benign/\n",
      "[*] done\n"
     ]
    }
   ],
   "source": [
    "# whitelist \n",
    "load_php_opcode_from_dir_with_file(php_benign_path, opcode_whitelist_path)"
   ]
  },
  {
   "cell_type": "markdown",
   "metadata": {},
   "source": [
    "## 2\\. Load "
   ]
  },
  {
   "cell_type": "code",
   "execution_count": 6,
   "metadata": {},
   "outputs": [],
   "source": [
    "import os \n",
    "import pandas as pd \n",
    "import numpy as np "
   ]
  },
  {
   "cell_type": "code",
   "execution_count": 7,
   "metadata": {},
   "outputs": [
    {
     "data": {
      "text/html": [
       "<div>\n",
       "<style scoped>\n",
       "    .dataframe tbody tr th:only-of-type {\n",
       "        vertical-align: middle;\n",
       "    }\n",
       "\n",
       "    .dataframe tbody tr th {\n",
       "        vertical-align: top;\n",
       "    }\n",
       "\n",
       "    .dataframe thead th {\n",
       "        text-align: right;\n",
       "    }\n",
       "</style>\n",
       "<table border=\"1\" class=\"dataframe\">\n",
       "  <thead>\n",
       "    <tr style=\"text-align: right;\">\n",
       "      <th></th>\n",
       "      <th>0</th>\n",
       "    </tr>\n",
       "  </thead>\n",
       "  <tbody>\n",
       "    <tr>\n",
       "      <th>0</th>\n",
       "      <td>E O E EXT_STMT INIT_FCALL EXT_FCALL_BEGIN INIT...</td>\n",
       "    </tr>\n",
       "    <tr>\n",
       "      <th>1</th>\n",
       "      <td>E O E EXT_STMT ASSIGN EXT_STMT ASSIGN EXT_STMT...</td>\n",
       "    </tr>\n",
       "    <tr>\n",
       "      <th>2</th>\n",
       "      <td>E O E EXT_STMT INIT_FCALL EXT_FCALL_BEGIN FETC...</td>\n",
       "    </tr>\n",
       "    <tr>\n",
       "      <th>3</th>\n",
       "      <td>E O E EXT_STMT ASSIGN EXT_STMT INIT_FCALL EXT_...</td>\n",
       "    </tr>\n",
       "    <tr>\n",
       "      <th>4</th>\n",
       "      <td>E O E EXT_STMT EXT_FCALL_BEGIN FETCH_CONSTANT ...</td>\n",
       "    </tr>\n",
       "  </tbody>\n",
       "</table>\n",
       "</div>"
      ],
      "text/plain": [
       "                                                   0\n",
       "0  E O E EXT_STMT INIT_FCALL EXT_FCALL_BEGIN INIT...\n",
       "1  E O E EXT_STMT ASSIGN EXT_STMT ASSIGN EXT_STMT...\n",
       "2  E O E EXT_STMT INIT_FCALL EXT_FCALL_BEGIN FETC...\n",
       "3  E O E EXT_STMT ASSIGN EXT_STMT INIT_FCALL EXT_...\n",
       "4  E O E EXT_STMT EXT_FCALL_BEGIN FETCH_CONSTANT ..."
      ]
     },
     "execution_count": 7,
     "metadata": {},
     "output_type": "execute_result"
    }
   ],
   "source": [
    "blacklist_df = pd.read_csv(opcode_blacklist_path, header=None)\n",
    "whitelist_df = pd.read_csv(opcode_whitelist_path, header=None)\n",
    "# whitelist_df\n",
    "blacklist_df.head()"
   ]
  },
  {
   "cell_type": "code",
   "execution_count": 8,
   "metadata": {},
   "outputs": [],
   "source": [
    "X_blacklist = np.array(blacklist_df)\n",
    "X_whitelist = np.array(whitelist_df)\n",
    "y_blacklist = [1] * len(X_blacklist)\n",
    "y_whitelist = [0] * len(X_whitelist)\n",
    "X = list()\n",
    "for item in X_blacklist:\n",
    "    X.append(item[0])\n",
    "for item in X_whitelist:\n",
    "    X.append(item[0])\n",
    "y = y_blacklist + y_whitelist"
   ]
  },
  {
   "cell_type": "code",
   "execution_count": 9,
   "metadata": {},
   "outputs": [
    {
     "name": "stdout",
     "output_type": "stream",
     "text": [
      "3299\n",
      "3299\n"
     ]
    },
    {
     "data": {
      "text/plain": [
       "'E O E EXT_STMT INIT_FCALL EXT_FCALL_BEGIN INIT_FCALL EXT_FCALL_BEGIN SEND_VAL SEND_VAL DO_FCALL EXT_FCALL_END SEND_VAR SEND_VAL DO_FCALL EXT_FCALL_END EXT_STMT EXT_FCALL_BEGIN INIT_FCALL EXT_FCALL_BEGIN FETCH_R FETCH_DIM_R SEND_VAL DO_FCALL EXT_FCALL_END INCLUDE_OR_EVAL EVAL EXT_FCALL_END RETURN'"
      ]
     },
     "execution_count": 9,
     "metadata": {},
     "output_type": "execute_result"
    }
   ],
   "source": [
    "print(len(X))\n",
    "print(len(y))\n",
    "X[0]"
   ]
  },
  {
   "cell_type": "markdown",
   "metadata": {},
   "source": [
    "## 3\\. Naive Bayes "
   ]
  },
  {
   "cell_type": "code",
   "execution_count": 10,
   "metadata": {},
   "outputs": [],
   "source": [
    "from sklearn.model_selection import train_test_split\n",
    "from sklearn.naive_bayes import GaussianNB\n",
    "from sklearn import metrics\n",
    "import joblib\n",
    "from utils import get_feature_by_tfidf\n",
    "import os \n",
    "\n",
    "\n",
    "model_path2 = os.path.join(save_path, \"gnb.pkl\")"
   ]
  },
  {
   "cell_type": "code",
   "execution_count": 11,
   "metadata": {},
   "outputs": [
    {
     "name": "stdout",
     "output_type": "stream",
     "text": [
      "[*] accuracy: 0.9462121212121212\n",
      "[*] precision: 0.9183055975794251\n",
      "[*] recall: 0.9727564102564102\n",
      "[*] loss: 0.05378787878787879\n",
      "[*] confusion matrix:\n",
      "[[642  54]\n",
      " [ 17 607]]\n"
     ]
    }
   ],
   "source": [
    "X_nb = get_feature_by_tfidf(input_X=X)\n",
    "y_nb = y \n",
    "\n",
    "X_nb_train, X_nb_test, y_nb_train, y_nb_test = train_test_split(X_nb, y_nb, test_size=0.4, random_state=0)\n",
    "clf = GaussianNB()\n",
    "clf.fit(X_nb_train, y_nb_train)\n",
    "joblib.dump(clf, model_path2)\n",
    "y_pred = clf.predict(X_nb_test)\n",
    "\n",
    "print(\"[*] accuracy: {}\".format(metrics.accuracy_score(y_nb_test, y_pred)))\n",
    "print(\"[*] precision: {}\".format(metrics.precision_score(y_nb_test, y_pred)))\n",
    "print(\"[*] recall: {}\".format(metrics.recall_score(y_nb_test, y_pred)))\n",
    "print(\"[*] loss: {}\".format(metrics.brier_score_loss(y_nb_test, y_pred)))\n",
    "print(\"[*] confusion matrix:\\n{}\".format(metrics.confusion_matrix(y_nb_test, y_pred)))"
   ]
  },
  {
   "cell_type": "markdown",
   "metadata": {},
   "source": [
    "## 4\\. Random Forest "
   ]
  },
  {
   "cell_type": "code",
   "execution_count": 12,
   "metadata": {},
   "outputs": [],
   "source": [
    "from sklearn.model_selection import train_test_split\n",
    "from sklearn.ensemble import RandomForestClassifier\n",
    "from sklearn import metrics\n",
    "import joblib\n",
    "from utils import get_feature_by_tfidf\n",
    "import os \n",
    "\n",
    "\n",
    "model_path = os.path.join(save_path, \"rf.pkl\")"
   ]
  },
  {
   "cell_type": "code",
   "execution_count": 13,
   "metadata": {},
   "outputs": [
    {
     "name": "stdout",
     "output_type": "stream",
     "text": [
      "[*] accuracy: 0.978030303030303\n",
      "[*] precision: 0.968503937007874\n",
      "[*] recall: 0.9855769230769231\n",
      "[*] loss: 0.02196969696969697\n"
     ]
    }
   ],
   "source": [
    "X_rf = get_feature_by_tfidf(input_X=X)\n",
    "y_rf = y \n",
    "\n",
    "X_rf_train, X_rf_test, y_rf_train, y_rf_test = train_test_split(X_rf, y_rf, test_size=0.4, random_state=0)\n",
    "clf2 = RandomForestClassifier(n_estimators=50)\n",
    "clf2.fit(X_rf_train, y_rf_train)\n",
    "joblib.dump(clf2, model_path)\n",
    "y_pred2 = clf2.predict(X_rf_test)\n",
    "\n",
    "print(\"[*] accuracy: {}\".format(metrics.accuracy_score(y_rf_test, y_pred2)))\n",
    "print(\"[*] precision: {}\".format(metrics.precision_score(y_rf_test, y_pred2)))\n",
    "print(\"[*] recall: {}\".format(metrics.recall_score(y_rf_test, y_pred2)))\n",
    "print(\"[*] loss: {}\".format(metrics.brier_score_loss(y_rf_test, y_pred2)))"
   ]
  },
  {
   "cell_type": "markdown",
   "metadata": {},
   "source": [
    "## 5\\. Test "
   ]
  },
  {
   "cell_type": "code",
   "execution_count": 14,
   "metadata": {},
   "outputs": [],
   "source": [
    "import os \n",
    "import joblib \n",
    "from utils import load_php_opcode, get_feature_by_tfidf\n",
    "\n",
    "\n",
    "model_path = os.path.join(save_path, \"rf.pkl\")\n",
    "\n",
    "\n",
    "def do_test(test_file):\n",
    "    blacklist_df = pd.read_csv(opcode_blacklist_path, header=None)\n",
    "    whitelist_df = pd.read_csv(opcode_whitelist_path, header=None)\n",
    "    X_blacklist = np.array(blacklist_df)\n",
    "    X_whitelist = np.array(whitelist_df)\n",
    "    all_file = list()\n",
    "    for item in X_blacklist:\n",
    "        all_file.append(item[0])\n",
    "    for item in X_whitelist:\n",
    "        all_file.append(item[0])\n",
    "    \n",
    "    opcode = load_php_opcode(test_file)\n",
    "    all_file.append(opcode)\n",
    "    x = get_feature_by_tfidf(all_file)\n",
    "    rf = joblib.load(model_path)\n",
    "    y_p = rf.predict(x[-1:])\n",
    "    if y_p == [0]:\n",
    "        print(\"benign\")\n",
    "    else:\n",
    "        print(\"webshell!!!\")\n"
   ]
  },
  {
   "cell_type": "code",
   "execution_count": 15,
   "metadata": {},
   "outputs": [
    {
     "name": "stdout",
     "output_type": "stream",
     "text": [
      "webshell!!!\n",
      "webshell!!!\n",
      "benign\n"
     ]
    }
   ],
   "source": [
    "do_test(\"./test/0d48acd8559ceed891f997f7204b34cbf411292b.php\")\n",
    "do_test(\"./test/2.php\")\n",
    "do_test(\"./test/1.php\")"
   ]
  }
 ],
 "metadata": {
  "interpreter": {
   "hash": "5b3859cabf3766e101e0faf0e03f0cae05e220748a0e62ad13502868cbea9fc9"
  },
  "kernelspec": {
   "display_name": "Python 3.9.6 64-bit",
   "language": "python",
   "name": "python3"
  },
  "language_info": {
   "codemirror_mode": {
    "name": "ipython",
    "version": 3
   },
   "file_extension": ".py",
   "mimetype": "text/x-python",
   "name": "python",
   "nbconvert_exporter": "python",
   "pygments_lexer": "ipython3",
   "version": "3.9.6"
  },
  "orig_nbformat": 4
 },
 "nbformat": 4,
 "nbformat_minor": 2
}
