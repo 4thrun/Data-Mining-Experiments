{
 "cells": [
  {
   "cell_type": "markdown",
   "metadata": {
    "collapsed": false
   },
   "source": [
    "# Malicious-URL\r\n",
    "\r\n",
    "With this analysis, we explored some important features that have proved to be sound and effective in predicting phishing/malicious websites based on lexical characteristics of URL\\.\r\n",
    "\r\n",
    "We have 2 datasets: **top\\-1m\\.csv** (most visited domains) and **phishing\\_verified\\_online\\.csv** as a collection of malicious URLs (where domains can be duplicated)\\.\r\n"
   ]
  },
  {
   "cell_type": "code",
   "execution_count": null,
   "metadata": {
    "collapsed": false
   },
   "outputs": [
    {
     "name": "stdout",
     "output_type": "stream",
     "text": [
      "Looking in indexes: https://pypi.tuna.tsinghua.edu.cn/simple\n",
      "Requirement already satisfied: pandas in /opt/conda/envs/python35-paddle120-env/lib/python3.7/site-packages (1.1.5)\n",
      "Requirement already satisfied: pytz>=2017.2 in /opt/conda/envs/python35-paddle120-env/lib/python3.7/site-packages (from pandas) (2019.3)\n",
      "Requirement already satisfied: numpy>=1.15.4 in /opt/conda/envs/python35-paddle120-env/lib/python3.7/site-packages (from pandas) (1.16.4)\n",
      "Requirement already satisfied: python-dateutil>=2.7.3 in /opt/conda/envs/python35-paddle120-env/lib/python3.7/site-packages (from pandas) (2.8.0)\n",
      "Requirement already satisfied: six>=1.5 in /opt/conda/envs/python35-paddle120-env/lib/python3.7/site-packages (from python-dateutil>=2.7.3->pandas) (1.15.0)\n",
      "Looking in indexes: https://pypi.tuna.tsinghua.edu.cn/simple\n",
      "Requirement already satisfied: matplotlib in /opt/conda/envs/python35-paddle120-env/lib/python3.7/site-packages (2.2.3)\n",
      "Requirement already satisfied: numpy>=1.7.1 in /opt/conda/envs/python35-paddle120-env/lib/python3.7/site-packages (from matplotlib) (1.16.4)\n",
      "Requirement already satisfied: python-dateutil>=2.1 in /opt/conda/envs/python35-paddle120-env/lib/python3.7/site-packages (from matplotlib) (2.8.0)\n",
      "Requirement already satisfied: cycler>=0.10 in /opt/conda/envs/python35-paddle120-env/lib/python3.7/site-packages (from matplotlib) (0.10.0)\n",
      "Requirement already satisfied: pytz in /opt/conda/envs/python35-paddle120-env/lib/python3.7/site-packages (from matplotlib) (2019.3)\n",
      "Requirement already satisfied: kiwisolver>=1.0.1 in /opt/conda/envs/python35-paddle120-env/lib/python3.7/site-packages (from matplotlib) (1.1.0)\n",
      "Requirement already satisfied: six>=1.10 in /opt/conda/envs/python35-paddle120-env/lib/python3.7/site-packages (from matplotlib) (1.15.0)\n",
      "Requirement already satisfied: pyparsing!=2.0.4,!=2.1.2,!=2.1.6,>=2.0.1 in /opt/conda/envs/python35-paddle120-env/lib/python3.7/site-packages (from matplotlib) (2.4.2)\n",
      "Requirement already satisfied: setuptools in /opt/conda/envs/python35-paddle120-env/lib/python3.7/site-packages (from kiwisolver>=1.0.1->matplotlib) (41.4.0)\n",
      "Looking in indexes: https://pypi.tuna.tsinghua.edu.cn/simple\n",
      "Requirement already satisfied: tldextract in /opt/conda/envs/python35-paddle120-env/lib/python3.7/site-packages (3.1.2)\n",
      "Requirement already satisfied: idna in /opt/conda/envs/python35-paddle120-env/lib/python3.7/site-packages (from tldextract) (2.8)\n",
      "Requirement already satisfied: requests-file>=1.4 in /opt/conda/envs/python35-paddle120-env/lib/python3.7/site-packages (from tldextract) (1.5.1)\n",
      "Requirement already satisfied: filelock>=3.0.8 in /opt/conda/envs/python35-paddle120-env/lib/python3.7/site-packages (from tldextract) (3.0.12)\n",
      "Requirement already satisfied: requests>=2.1.0 in /opt/conda/envs/python35-paddle120-env/lib/python3.7/site-packages (from tldextract) (2.22.0)\n",
      "Requirement already satisfied: six in /opt/conda/envs/python35-paddle120-env/lib/python3.7/site-packages (from requests-file>=1.4->tldextract) (1.15.0)\n",
      "Requirement already satisfied: chardet<3.1.0,>=3.0.2 in /opt/conda/envs/python35-paddle120-env/lib/python3.7/site-packages (from requests>=2.1.0->tldextract) (3.0.4)\n",
      "Requirement already satisfied: certifi>=2017.4.17 in /opt/conda/envs/python35-paddle120-env/lib/python3.7/site-packages (from requests>=2.1.0->tldextract) (2019.9.11)\n",
      "Requirement already satisfied: urllib3!=1.25.0,!=1.25.1,<1.26,>=1.21.1 in /opt/conda/envs/python35-paddle120-env/lib/python3.7/site-packages (from requests>=2.1.0->tldextract) (1.25.6)\n",
      "Looking in indexes: https://pypi.tuna.tsinghua.edu.cn/simple\n",
      "Requirement already satisfied: ipaddress in /opt/conda/envs/python35-paddle120-env/lib/python3.7/site-packages (1.0.23)\n",
      "Looking in indexes: https://pypi.tuna.tsinghua.edu.cn/simple\n",
      "Requirement already satisfied: sklearn in /opt/conda/envs/python35-paddle120-env/lib/python3.7/site-packages (0.0)\n",
      "Requirement already satisfied: scikit-learn in /opt/conda/envs/python35-paddle120-env/lib/python3.7/site-packages (from sklearn) (0.22.1)\n",
      "Requirement already satisfied: joblib>=0.11 in /opt/conda/envs/python35-paddle120-env/lib/python3.7/site-packages (from scikit-learn->sklearn) (0.14.1)\n",
      "Requirement already satisfied: scipy>=0.17.0 in /opt/conda/envs/python35-paddle120-env/lib/python3.7/site-packages (from scikit-learn->sklearn) (1.3.0)\n",
      "Requirement already satisfied: numpy>=1.11.0 in /opt/conda/envs/python35-paddle120-env/lib/python3.7/site-packages (from scikit-learn->sklearn) (1.16.4)\n"
     ]
    }
   ],
   "source": [
    "# -*- coding: utf-8 -*-\r\n",
    "# !pip install pandas\r\n",
    "# !pip install matplotlib\r\n",
    "# !pip install tldextract \r\n",
    "# !pip install ipaddress \r\n",
    "# !pip install seaborn \r\n",
    "# !pip install pickle "
   ]
  },
  {
   "cell_type": "code",
   "execution_count": null,
   "metadata": {
    "collapsed": false
   },
   "outputs": [],
   "source": [
    "datapath = \"./\""
   ]
  },
  {
   "cell_type": "markdown",
   "metadata": {
    "collapsed": false
   },
   "source": [
    "## 1\\. Load Data \r\n",
    "\r\n",
    "The dataset **phishing\\_verified\\_online\\.csv** has many items. However we only focus on the item \"url\"\\."
   ]
  },
  {
   "cell_type": "code",
   "execution_count": null,
   "metadata": {
    "collapsed": false
   },
   "outputs": [
    {
     "data": {
      "text/plain": [
       "0    http://beautifulattendee.com/css/css/aol$MV4/i...\n",
       "1                 http://www.grupbf18.whatsap-gr33.tk/\n",
       "2                      http://bkpwhyaaa.hoaztbokep.ga/\n",
       "3                  http://www.bkpwhyaaa.hoaztbokep.ga/\n",
       "4                      http://whattsap.claimfreedm.gq/\n",
       "Name: url, dtype: object"
      ]
     },
     "execution_count": null,
     "metadata": {},
     "output_type": "execute_result"
    }
   ],
   "source": [
    "import os \r\n",
    "import pandas as pd \r\n",
    "\r\n",
    "\r\n",
    "# malicious = pd.read_csv(os.path.join(datapath, \"phishing_verified_online.csv\"))['url']\r\n",
    "malicious = pd.read_csv('/home/aistudio/data/data54433/phishing_verified_online.csv')['url']\r\n",
    "malicious = malicious.reset_index(drop=True)\r\n",
    "malicious.head()"
   ]
  },
  {
   "cell_type": "code",
   "execution_count": null,
   "metadata": {
    "collapsed": false
   },
   "outputs": [
    {
     "data": {
      "text/plain": [
       "14989"
      ]
     },
     "execution_count": null,
     "metadata": {},
     "output_type": "execute_result"
    }
   ],
   "source": [
    "len(malicious)"
   ]
  },
  {
   "cell_type": "code",
   "execution_count": null,
   "metadata": {
    "collapsed": false
   },
   "outputs": [
    {
     "data": {
      "text/plain": [
       "0      google.com\n",
       "1     youtube.com\n",
       "2    facebook.com\n",
       "3       tmall.com\n",
       "4       baidu.com\n",
       "Name: 1, dtype: object"
      ]
     },
     "execution_count": null,
     "metadata": {},
     "output_type": "execute_result"
    }
   ],
   "source": [
    "# non_malicious = pd.read_csv(os.path.join(datapath, \"top-1m.csv\"), header=None)[1]\r\n",
    "non_malicious = pd.read_csv('/home/aistudio/data/data54434/top-1m.csv', header=None)[1]\r\n",
    "non_malicious=non_malicious.reset_index(drop=True)\r\n",
    "\r\n",
    "non_malicious = non_malicious[0:len(malicious)]\r\n",
    "non_malicious.head()"
   ]
  },
  {
   "cell_type": "code",
   "execution_count": null,
   "metadata": {
    "collapsed": false
   },
   "outputs": [
    {
     "data": {
      "text/plain": [
       "14989"
      ]
     },
     "execution_count": null,
     "metadata": {},
     "output_type": "execute_result"
    }
   ],
   "source": [
    "len(non_malicious)"
   ]
  },
  {
   "cell_type": "markdown",
   "metadata": {
    "collapsed": false
   },
   "source": [
    "## 2\\. Feature Selection \n",
    "\n",
    "Features:\n",
    "- host name*\n",
    "- domain*\n",
    "- length of domain\n",
    "- number of dots \n",
    "- number of delimeters (\";\", \"_\", \"?\", \"=\", \"&\")\n",
    "- IP present as the host name \n",
    "- hyphen (\"-\") presence \n",
    "- \"@\" presence \n",
    "- \"//\" presence \n",
    "- sub dir (\"/\") presence \n",
    "- filename extension \n",
    "- sub domain \n",
    "- queries (\"&\")\n",
    "- sensitive words\n",
    "- port (wrong port presence)\n",
    "- brand (presence of Google or something)\n",
    "- number of digits \n",
    "- number of uppercase "
   ]
  },
  {
   "cell_type": "code",
   "execution_count": null,
   "metadata": {
    "collapsed": false
   },
   "outputs": [],
   "source": [
    "import tldextract\r\n",
    "\r\n",
    "\r\n",
    "# length of URL \r\n",
    "def getLength(url):\r\n",
    "    return len(url)\r\n",
    "\r\n",
    "# host name*\r\n",
    "def getHostname(url):\r\n",
    "    tuple = tldextract.extract(url)\r\n",
    "    if tuple[0] != '':\r\n",
    "        return '.'.join(tuple)\r\n",
    "    else:\r\n",
    "        return '.'.join(tuple[1:])\r\n",
    "\r\n",
    "# domain*\r\n",
    "def getDomain(url):\r\n",
    "    return \".\".join(tldextract.extract(url)[1:])\r\n",
    "\r\n",
    "# number of dots \r\n",
    "def getDots(url):\r\n",
    "    return url.count('.')\r\n",
    "\r\n",
    "# number of delimeters (\";\", \"_\", \"?\", \"=\", \"&\")\r\n",
    "def getDelims(url):\r\n",
    "    count = 0 \r\n",
    "    delims = [';', '_', '?', '=', '&']\r\n",
    "    for i in url:\r\n",
    "        if i in delims:\r\n",
    "            count += 1\r\n",
    "    return count "
   ]
  },
  {
   "cell_type": "markdown",
   "metadata": {
    "collapsed": false
   },
   "source": [
    "If an IP address is used as an alternative of the domain name in the URL, such as “http://125.98.3.123/fake.html”, users can be sure that someone is trying to steal their personal information. Sometimes, the IP address is even transformed into hexadecimal code as shown in the following link “http://0x58.0xCC.0xCA.0x62/2/paypal.ca/index.html”\\."
   ]
  },
  {
   "cell_type": "code",
   "execution_count": null,
   "metadata": {
    "collapsed": false
   },
   "outputs": [],
   "source": [
    "import ipaddress as ip \r\n",
    "\r\n",
    "\r\n",
    "# IP present as the host name \r\n",
    "def isIP(url):\r\n",
    "    domain = tldextract.extract(url)[1]\r\n",
    "    try:\r\n",
    "        if ip.ip_address(domain):\r\n",
    "            return 1 \r\n",
    "    except:\r\n",
    "        return 0 "
   ]
  },
  {
   "cell_type": "code",
   "execution_count": null,
   "metadata": {
    "collapsed": false
   },
   "outputs": [],
   "source": [
    "# hyphen (\"-\") presence \r\n",
    "def getHyphen(url):\r\n",
    "    return url.count('-')"
   ]
  },
  {
   "cell_type": "markdown",
   "metadata": {
    "collapsed": false
   },
   "source": [
    "Using “@” symbol in the URL leads the browser to ignore everything preceding the “@” symbol and the real address often follows the “@” symbol\\."
   ]
  },
  {
   "cell_type": "code",
   "execution_count": null,
   "metadata": {
    "collapsed": false
   },
   "outputs": [],
   "source": [
    "# \"@\" presence \r\n",
    "def getAT(url):\r\n",
    "    return url.count('@')"
   ]
  },
  {
   "cell_type": "markdown",
   "metadata": {
    "collapsed": false
   },
   "source": [
    "The existence of “//” within the URL path means that the user will be redirected to another website. An example of such URL’s is: “http://www.legitimate.com//http://www.phishing.com”. We examine the presence of “//”\\."
   ]
  },
  {
   "cell_type": "code",
   "execution_count": null,
   "metadata": {
    "collapsed": false
   },
   "outputs": [],
   "source": [
    "# \"//\" presence \r\n",
    "def getDSlash(url):\r\n",
    "    return url.count('//')"
   ]
  },
  {
   "cell_type": "code",
   "execution_count": null,
   "metadata": {
    "collapsed": false
   },
   "outputs": [],
   "source": [
    "from os.path import splitext\r\n",
    "from urllib.parse import urlparse\r\n",
    "import string \r\n",
    "\r\n",
    "\r\n",
    "# sub dir (\"/\") presence \r\n",
    "def getSubDir(url):\r\n",
    "    return url.count('/')\r\n",
    "\r\n",
    "# filename extension \r\n",
    "def getExt(url):\r\n",
    "    return splitext(url)[1]\r\n",
    "\r\n",
    "# sub domain\r\n",
    "def getSubDomain(subdomain):\r\n",
    "    if not subdomain:\r\n",
    "        return 0\r\n",
    "    else:\r\n",
    "        return len(subdomain.split('.'))\r\n",
    "\r\n",
    "# queries (\"&\")\r\n",
    "def getQueries(query):\r\n",
    "    if not query:\r\n",
    "        return 0 \r\n",
    "    else: \r\n",
    "        return len(query.split('&'))\r\n",
    "\r\n",
    "# sensitive words\r\n",
    "def getSensitive(url):\r\n",
    "    sensitive = [\r\n",
    "        'secure', 'security', 'account', 'webscr', 'bank', 'banking', 'login', \r\n",
    "        'ebayiaphi', 'sign', 'signin', 'confirm', 'porn', 'pornography', 'sexy', \r\n",
    "        'zip', 'cricket', 'link', 'work', 'party', 'gq', 'kim', 'country', 'science', \r\n",
    "        'tk', \r\n",
    "    ]\r\n",
    "    for i in range (len(sensitive)):\r\n",
    "        if sensitive[i] in url:\r\n",
    "            return 1\r\n",
    "    return 0\r\n",
    "\r\n",
    "# port (wrong port presence)\r\n",
    "def getWrongPort(url):\r\n",
    "    _url = urlparse(url)\r\n",
    "    port = _url.port\r\n",
    "    if port is not None:\r\n",
    "        return 1 \r\n",
    "    return 0\r\n",
    "\r\n",
    "# brand (presence of Google or something)\r\n",
    "def getBrand(url):\r\n",
    "    _url = urlparse(url)\r\n",
    "    path = _url.path\r\n",
    "    brand = [\r\n",
    "        'Google', 'google', '53.com', 'Chase', 'Microsoft', 'microsoft', 'ANZ', \r\n",
    "        'Citibank', 'Paypal', 'AOL', 'eBay', 'USBank', 'E-Gold', 'Visa', 'Bankofamerica', \r\n",
    "        'Warcraft', 'Barclays', 'HSBC', 'Westpac', 'battle.net', 'LIoyds', 'yahoo', 'Yahoo',\r\n",
    "    ]\r\n",
    "    for i in range(len(brand)):\r\n",
    "        if brand[i] in url:\r\n",
    "            return 1 \r\n",
    "    return 0 \r\n",
    "\r\n",
    "# number of digits \r\n",
    "def getDigits(url):\r\n",
    "    count = 0\r\n",
    "    for i in range(len(url)):\r\n",
    "        if url[i] in string.digits:\r\n",
    "            count += 1\r\n",
    "    return count \r\n",
    "\r\n",
    "# number of uppercase \r\n",
    "def getCountUpcase(url):\r\n",
    "    count = 0\r\n",
    "    for i in range(len(url)):\r\n",
    "        if url[i] in string.ascii_uppercase:\r\n",
    "            count += 1\r\n",
    "    return count\r\n"
   ]
  },
  {
   "cell_type": "code",
   "execution_count": null,
   "metadata": {
    "collapsed": false
   },
   "outputs": [],
   "source": [
    "FeatureSet = pd.DataFrame(columns=(\r\n",
    "    'url',\r\n",
    "    'hostname*', 'domain*', 'length of domain', 'num of dots', 'num of delims', 'is IP', 'hyphen', '@', '//', 'sub dir', \r\n",
    "    'filename ext', 'sub domain', 'queries', 'sensitive', 'port', 'brand', 'num of digits', 'num of uppercase',\r\n",
    "    'label',\r\n",
    "    ))\r\n",
    "\r\n",
    "def getFeatures(url, label):\r\n",
    "    result = list()\r\n",
    "    url = str(url)\r\n",
    "\r\n",
    "    # url \r\n",
    "    result.append(url)\r\n",
    "\r\n",
    "    path = urlparse(url)\r\n",
    "    extract = tldextract.extract(url)\r\n",
    "\r\n",
    "    # hostname*\r\n",
    "    result.append(getHostname(url))\r\n",
    "    # domain*\r\n",
    "    result.append(getDomain(url))\r\n",
    "    # length of domain \r\n",
    "    result.append(getLength(getDomain(url)))\r\n",
    "    # num of dots\r\n",
    "    result.append(getDots(extract.subdomain))\r\n",
    "    # num of delims\r\n",
    "    result.append(getDelims(url))\r\n",
    "    # is IP\r\n",
    "    result.append(isIP(url))\r\n",
    "    # hyphen\r\n",
    "    result.append(getHyphen(path.netloc))\r\n",
    "    # @ \r\n",
    "    result.append(getAT(path.netloc))\r\n",
    "    # // \r\n",
    "    result.append(getDSlash(path.path))\r\n",
    "    # sub dir \r\n",
    "    result.append(getSubDir(path.path))\r\n",
    "    # filename ext \r\n",
    "    result.append(getExt(url))\r\n",
    "    # sub domain\r\n",
    "    result.append(getSubDomain(extract.subdomain))\r\n",
    "    # queries\r\n",
    "    result.append(len(path.query))\r\n",
    "    # sensitive\r\n",
    "    result.append(getSensitive(url))\r\n",
    "    # port \r\n",
    "    result.append(getWrongPort(url))\r\n",
    "    # brand\r\n",
    "    result.append(getBrand(url))\r\n",
    "    # num of digits\r\n",
    "    result.append(getDigits(url))\r\n",
    "    # num of uppercase\r\n",
    "    result.append(getCountUpcase(url))\r\n",
    "    # label \r\n",
    "    result.append(str(label))\r\n",
    "    return result\r\n",
    "\r\n",
    "\r\n",
    "i = 0\r\n",
    "for i in range(len(malicious)):\r\n",
    "    feature = getFeatures(malicious.loc[i], 1)\r\n",
    "    FeatureSet.loc[i] = feature\r\n",
    "\r\n",
    "for j in range(len(non_malicious)):\r\n",
    "    feature = getFeatures(non_malicious.loc[j], 0)\r\n",
    "    FeatureSet.loc[j+i] = feature"
   ]
  },
  {
   "cell_type": "markdown",
   "metadata": {
    "collapsed": false
   },
   "source": [
    "## 3\\. Visualization  "
   ]
  },
  {
   "cell_type": "code",
   "execution_count": null,
   "metadata": {
    "collapsed": false
   },
   "outputs": [
    {
     "data": {
      "text/html": [
       "<div>\n",
       "<style scoped>\n",
       "    .dataframe tbody tr th:only-of-type {\n",
       "        vertical-align: middle;\n",
       "    }\n",
       "\n",
       "    .dataframe tbody tr th {\n",
       "        vertical-align: top;\n",
       "    }\n",
       "\n",
       "    .dataframe thead th {\n",
       "        text-align: right;\n",
       "    }\n",
       "</style>\n",
       "<table border=\"1\" class=\"dataframe\">\n",
       "  <thead>\n",
       "    <tr style=\"text-align: right;\">\n",
       "      <th></th>\n",
       "      <th>url</th>\n",
       "      <th>hostname*</th>\n",
       "      <th>domain*</th>\n",
       "      <th>length of domain</th>\n",
       "      <th>num of dots</th>\n",
       "      <th>num of delims</th>\n",
       "      <th>is IP</th>\n",
       "      <th>hyphen</th>\n",
       "      <th>@</th>\n",
       "      <th>//</th>\n",
       "      <th>sub dir</th>\n",
       "      <th>filename ext</th>\n",
       "      <th>sub domain</th>\n",
       "      <th>queries</th>\n",
       "      <th>sensitive</th>\n",
       "      <th>port</th>\n",
       "      <th>brand</th>\n",
       "      <th>num of digits</th>\n",
       "      <th>num of uppercase</th>\n",
       "      <th>label</th>\n",
       "    </tr>\n",
       "  </thead>\n",
       "  <tbody>\n",
       "    <tr>\n",
       "      <th>0</th>\n",
       "      <td>http://beautifulattendee.com/css/css/aol$MV4/i...</td>\n",
       "      <td>beautifulattendee.com</td>\n",
       "      <td>beautifulattendee.com</td>\n",
       "      <td>21</td>\n",
       "      <td>0</td>\n",
       "      <td>6</td>\n",
       "      <td>0</td>\n",
       "      <td>0</td>\n",
       "      <td>0</td>\n",
       "      <td>0</td>\n",
       "      <td>4</td>\n",
       "      <td>.php?cmd=_account-details&amp;amp;session=idcElTsb...</td>\n",
       "      <td>0</td>\n",
       "      <td>133</td>\n",
       "      <td>1</td>\n",
       "      <td>0</td>\n",
       "      <td>0</td>\n",
       "      <td>15</td>\n",
       "      <td>41</td>\n",
       "      <td>1</td>\n",
       "    </tr>\n",
       "    <tr>\n",
       "      <th>1</th>\n",
       "      <td>http://www.grupbf18.whatsap-gr33.tk/</td>\n",
       "      <td>www.grupbf18.whatsap-gr33.tk</td>\n",
       "      <td>whatsap-gr33.tk</td>\n",
       "      <td>15</td>\n",
       "      <td>1</td>\n",
       "      <td>0</td>\n",
       "      <td>0</td>\n",
       "      <td>1</td>\n",
       "      <td>0</td>\n",
       "      <td>0</td>\n",
       "      <td>1</td>\n",
       "      <td></td>\n",
       "      <td>2</td>\n",
       "      <td>0</td>\n",
       "      <td>1</td>\n",
       "      <td>0</td>\n",
       "      <td>0</td>\n",
       "      <td>4</td>\n",
       "      <td>0</td>\n",
       "      <td>1</td>\n",
       "    </tr>\n",
       "    <tr>\n",
       "      <th>2</th>\n",
       "      <td>http://bkpwhyaaa.hoaztbokep.ga/</td>\n",
       "      <td>bkpwhyaaa.hoaztbokep.ga</td>\n",
       "      <td>hoaztbokep.ga</td>\n",
       "      <td>13</td>\n",
       "      <td>0</td>\n",
       "      <td>0</td>\n",
       "      <td>0</td>\n",
       "      <td>0</td>\n",
       "      <td>0</td>\n",
       "      <td>0</td>\n",
       "      <td>1</td>\n",
       "      <td></td>\n",
       "      <td>1</td>\n",
       "      <td>0</td>\n",
       "      <td>0</td>\n",
       "      <td>0</td>\n",
       "      <td>0</td>\n",
       "      <td>0</td>\n",
       "      <td>0</td>\n",
       "      <td>1</td>\n",
       "    </tr>\n",
       "    <tr>\n",
       "      <th>3</th>\n",
       "      <td>http://www.bkpwhyaaa.hoaztbokep.ga/</td>\n",
       "      <td>www.bkpwhyaaa.hoaztbokep.ga</td>\n",
       "      <td>hoaztbokep.ga</td>\n",
       "      <td>13</td>\n",
       "      <td>1</td>\n",
       "      <td>0</td>\n",
       "      <td>0</td>\n",
       "      <td>0</td>\n",
       "      <td>0</td>\n",
       "      <td>0</td>\n",
       "      <td>1</td>\n",
       "      <td></td>\n",
       "      <td>2</td>\n",
       "      <td>0</td>\n",
       "      <td>0</td>\n",
       "      <td>0</td>\n",
       "      <td>0</td>\n",
       "      <td>0</td>\n",
       "      <td>0</td>\n",
       "      <td>1</td>\n",
       "    </tr>\n",
       "    <tr>\n",
       "      <th>4</th>\n",
       "      <td>http://whattsap.claimfreedm.gq/</td>\n",
       "      <td>whattsap.claimfreedm.gq</td>\n",
       "      <td>claimfreedm.gq</td>\n",
       "      <td>14</td>\n",
       "      <td>0</td>\n",
       "      <td>0</td>\n",
       "      <td>0</td>\n",
       "      <td>0</td>\n",
       "      <td>0</td>\n",
       "      <td>0</td>\n",
       "      <td>1</td>\n",
       "      <td></td>\n",
       "      <td>1</td>\n",
       "      <td>0</td>\n",
       "      <td>1</td>\n",
       "      <td>0</td>\n",
       "      <td>0</td>\n",
       "      <td>0</td>\n",
       "      <td>0</td>\n",
       "      <td>1</td>\n",
       "    </tr>\n",
       "    <tr>\n",
       "      <th>...</th>\n",
       "      <td>...</td>\n",
       "      <td>...</td>\n",
       "      <td>...</td>\n",
       "      <td>...</td>\n",
       "      <td>...</td>\n",
       "      <td>...</td>\n",
       "      <td>...</td>\n",
       "      <td>...</td>\n",
       "      <td>...</td>\n",
       "      <td>...</td>\n",
       "      <td>...</td>\n",
       "      <td>...</td>\n",
       "      <td>...</td>\n",
       "      <td>...</td>\n",
       "      <td>...</td>\n",
       "      <td>...</td>\n",
       "      <td>...</td>\n",
       "      <td>...</td>\n",
       "      <td>...</td>\n",
       "      <td>...</td>\n",
       "    </tr>\n",
       "    <tr>\n",
       "      <th>29972</th>\n",
       "      <td>coach.com</td>\n",
       "      <td>coach.com</td>\n",
       "      <td>coach.com</td>\n",
       "      <td>9</td>\n",
       "      <td>0</td>\n",
       "      <td>0</td>\n",
       "      <td>0</td>\n",
       "      <td>0</td>\n",
       "      <td>0</td>\n",
       "      <td>0</td>\n",
       "      <td>0</td>\n",
       "      <td>.com</td>\n",
       "      <td>0</td>\n",
       "      <td>0</td>\n",
       "      <td>0</td>\n",
       "      <td>0</td>\n",
       "      <td>0</td>\n",
       "      <td>0</td>\n",
       "      <td>0</td>\n",
       "      <td>0</td>\n",
       "    </tr>\n",
       "    <tr>\n",
       "      <th>29973</th>\n",
       "      <td>webengage.com</td>\n",
       "      <td>webengage.com</td>\n",
       "      <td>webengage.com</td>\n",
       "      <td>13</td>\n",
       "      <td>0</td>\n",
       "      <td>0</td>\n",
       "      <td>0</td>\n",
       "      <td>0</td>\n",
       "      <td>0</td>\n",
       "      <td>0</td>\n",
       "      <td>0</td>\n",
       "      <td>.com</td>\n",
       "      <td>0</td>\n",
       "      <td>0</td>\n",
       "      <td>0</td>\n",
       "      <td>0</td>\n",
       "      <td>0</td>\n",
       "      <td>0</td>\n",
       "      <td>0</td>\n",
       "      <td>0</td>\n",
       "    </tr>\n",
       "    <tr>\n",
       "      <th>29974</th>\n",
       "      <td>sudact.ru</td>\n",
       "      <td>sudact.ru</td>\n",
       "      <td>sudact.ru</td>\n",
       "      <td>9</td>\n",
       "      <td>0</td>\n",
       "      <td>0</td>\n",
       "      <td>0</td>\n",
       "      <td>0</td>\n",
       "      <td>0</td>\n",
       "      <td>0</td>\n",
       "      <td>0</td>\n",
       "      <td>.ru</td>\n",
       "      <td>0</td>\n",
       "      <td>0</td>\n",
       "      <td>0</td>\n",
       "      <td>0</td>\n",
       "      <td>0</td>\n",
       "      <td>0</td>\n",
       "      <td>0</td>\n",
       "      <td>0</td>\n",
       "    </tr>\n",
       "    <tr>\n",
       "      <th>29975</th>\n",
       "      <td>trendhunter.com</td>\n",
       "      <td>trendhunter.com</td>\n",
       "      <td>trendhunter.com</td>\n",
       "      <td>15</td>\n",
       "      <td>0</td>\n",
       "      <td>0</td>\n",
       "      <td>0</td>\n",
       "      <td>0</td>\n",
       "      <td>0</td>\n",
       "      <td>0</td>\n",
       "      <td>0</td>\n",
       "      <td>.com</td>\n",
       "      <td>0</td>\n",
       "      <td>0</td>\n",
       "      <td>0</td>\n",
       "      <td>0</td>\n",
       "      <td>0</td>\n",
       "      <td>0</td>\n",
       "      <td>0</td>\n",
       "      <td>0</td>\n",
       "    </tr>\n",
       "    <tr>\n",
       "      <th>29976</th>\n",
       "      <td>freeprwebdirectory.com</td>\n",
       "      <td>freeprwebdirectory.com</td>\n",
       "      <td>freeprwebdirectory.com</td>\n",
       "      <td>22</td>\n",
       "      <td>0</td>\n",
       "      <td>0</td>\n",
       "      <td>0</td>\n",
       "      <td>0</td>\n",
       "      <td>0</td>\n",
       "      <td>0</td>\n",
       "      <td>0</td>\n",
       "      <td>.com</td>\n",
       "      <td>0</td>\n",
       "      <td>0</td>\n",
       "      <td>0</td>\n",
       "      <td>0</td>\n",
       "      <td>0</td>\n",
       "      <td>0</td>\n",
       "      <td>0</td>\n",
       "      <td>0</td>\n",
       "    </tr>\n",
       "  </tbody>\n",
       "</table>\n",
       "<p>29977 rows × 20 columns</p>\n",
       "</div>"
      ],
      "text/plain": [
       "                                                     url  \\\n",
       "0      http://beautifulattendee.com/css/css/aol$MV4/i...   \n",
       "1                   http://www.grupbf18.whatsap-gr33.tk/   \n",
       "2                        http://bkpwhyaaa.hoaztbokep.ga/   \n",
       "3                    http://www.bkpwhyaaa.hoaztbokep.ga/   \n",
       "4                        http://whattsap.claimfreedm.gq/   \n",
       "...                                                  ...   \n",
       "29972                                          coach.com   \n",
       "29973                                      webengage.com   \n",
       "29974                                          sudact.ru   \n",
       "29975                                    trendhunter.com   \n",
       "29976                             freeprwebdirectory.com   \n",
       "\n",
       "                          hostname*                 domain* length of domain  \\\n",
       "0             beautifulattendee.com   beautifulattendee.com               21   \n",
       "1      www.grupbf18.whatsap-gr33.tk         whatsap-gr33.tk               15   \n",
       "2           bkpwhyaaa.hoaztbokep.ga           hoaztbokep.ga               13   \n",
       "3       www.bkpwhyaaa.hoaztbokep.ga           hoaztbokep.ga               13   \n",
       "4           whattsap.claimfreedm.gq          claimfreedm.gq               14   \n",
       "...                             ...                     ...              ...   \n",
       "29972                     coach.com               coach.com                9   \n",
       "29973                 webengage.com           webengage.com               13   \n",
       "29974                     sudact.ru               sudact.ru                9   \n",
       "29975               trendhunter.com         trendhunter.com               15   \n",
       "29976        freeprwebdirectory.com  freeprwebdirectory.com               22   \n",
       "\n",
       "      num of dots num of delims is IP hyphen  @ // sub dir  \\\n",
       "0               0             6     0      0  0  0       4   \n",
       "1               1             0     0      1  0  0       1   \n",
       "2               0             0     0      0  0  0       1   \n",
       "3               1             0     0      0  0  0       1   \n",
       "4               0             0     0      0  0  0       1   \n",
       "...           ...           ...   ...    ... .. ..     ...   \n",
       "29972           0             0     0      0  0  0       0   \n",
       "29973           0             0     0      0  0  0       0   \n",
       "29974           0             0     0      0  0  0       0   \n",
       "29975           0             0     0      0  0  0       0   \n",
       "29976           0             0     0      0  0  0       0   \n",
       "\n",
       "                                            filename ext sub domain queries  \\\n",
       "0      .php?cmd=_account-details&amp;session=idcElTsb...          0     133   \n",
       "1                                                                 2       0   \n",
       "2                                                                 1       0   \n",
       "3                                                                 2       0   \n",
       "4                                                                 1       0   \n",
       "...                                                  ...        ...     ...   \n",
       "29972                                               .com          0       0   \n",
       "29973                                               .com          0       0   \n",
       "29974                                                .ru          0       0   \n",
       "29975                                               .com          0       0   \n",
       "29976                                               .com          0       0   \n",
       "\n",
       "      sensitive port brand num of digits num of uppercase label  \n",
       "0             1    0     0            15               41     1  \n",
       "1             1    0     0             4                0     1  \n",
       "2             0    0     0             0                0     1  \n",
       "3             0    0     0             0                0     1  \n",
       "4             1    0     0             0                0     1  \n",
       "...         ...  ...   ...           ...              ...   ...  \n",
       "29972         0    0     0             0                0     0  \n",
       "29973         0    0     0             0                0     0  \n",
       "29974         0    0     0             0                0     0  \n",
       "29975         0    0     0             0                0     0  \n",
       "29976         0    0     0             0                0     0  \n",
       "\n",
       "[29977 rows x 20 columns]"
      ]
     },
     "execution_count": null,
     "metadata": {},
     "output_type": "execute_result"
    }
   ],
   "source": [
    "FeatureSet"
   ]
  },
  {
   "cell_type": "code",
   "execution_count": null,
   "metadata": {
    "collapsed": false
   },
   "outputs": [
    {
     "data": {
      "image/png": "[encoded data removed]",
      "text/plain": [
       "<Figure size 432x288 with 1 Axes>"
      ]
     },
     "metadata": {},
     "output_type": "display_data"
    }
   ],
   "source": [
    "import matplotlib.pyplot as plt \r\n",
    "import seaborn as sns \r\n",
    "import pickle as pkl \r\n",
    "\r\n",
    "\r\n",
    "# Domain Length Distribution \r\n",
    "sns.set(style=\"darkgrid\")\r\n",
    "sns.distplot(FeatureSet[FeatureSet['label']=='0']['length of domain'],color='blue',label='Benign URLs')\r\n",
    "sns.distplot(FeatureSet[FeatureSet['label']=='1']['length of domain'],color='red',label='Malicious URLs')\r\n",
    "# sns.plt.title('Domain Length Distribution')\r\n",
    "plt.legend(loc='upper right')\r\n",
    "plt.xlabel('Length of Domain/Host')\r\n",
    "plt.title('Domain Length Distribution')\r\n",
    "plt.show()"
   ]
  },
  {
   "cell_type": "code",
   "execution_count": null,
   "metadata": {
    "collapsed": false
   },
   "outputs": [
    {
     "name": "stderr",
     "output_type": "stream",
     "text": [
      "/opt/conda/envs/python35-paddle120-env/lib/python3.7/site-packages/seaborn/distributions.py:288: UserWarning: Data must have variance to compute a kernel density estimate.\n",
      "  warnings.warn(msg, UserWarning)\n"
     ]
    },
    {
     "data": {
      "image/png": "[encoded data removed]",
      "text/plain": [
       "<Figure size 432x288 with 1 Axes>"
      ]
     },
     "metadata": {},
     "output_type": "display_data"
    }
   ],
   "source": [
    "# Distribution of Number of Dots in URL\r\n",
    "x=FeatureSet[FeatureSet['label']=='0']['num of dots']\r\n",
    "y=FeatureSet[FeatureSet['label']=='1']['num of dots']\r\n",
    "# plt.hist(x,bins=8, alpha=0.9, label='Benign URLs',color='blue')\r\n",
    "sns.distplot(x,bins=8,color='blue',label='Benign URLs')\r\n",
    "# plt.hist(y,bins=10, alpha=0.6, label='Malicious URLs',color='red')\r\n",
    "sns.distplot(y,bins=8,color='red',label='Malicious URLs')\r\n",
    "plt.legend(loc='upper right')\r\n",
    "plt.xlabel('Number of Dots')\r\n",
    "plt.title('Distribution of Number of Dots in URL')\r\n",
    "plt.show()"
   ]
  },
  {
   "cell_type": "markdown",
   "metadata": {
    "collapsed": false
   },
   "source": [
    "## 4\\. Machine Learning "
   ]
  },
  {
   "cell_type": "code",
   "execution_count": null,
   "metadata": {
    "collapsed": false
   },
   "outputs": [],
   "source": [
    "from sklearn import svm\r\n",
    "from sklearn.svm import SVC\r\n",
    "from sklearn import model_selection\r\n",
    "import numpy as np "
   ]
  },
  {
   "cell_type": "code",
   "execution_count": 116,
   "metadata": {
    "collapsed": false
   },
   "outputs": [],
   "source": [
    "x = list()\r\n",
    "y = list()\r\n",
    "raw = FeatureSet.values.tolist()\r\n",
    "for i in range(len(raw)):\r\n",
    "    tmp = raw[i]\r\n",
    "    x_tmp = tmp[3:11] + tmp[12:19]\r\n",
    "    x.append(x_tmp)\r\n",
    "    y.append(tmp[-1])"
   ]
  },
  {
   "cell_type": "code",
   "execution_count": 117,
   "metadata": {
    "collapsed": false
   },
   "outputs": [],
   "source": [
    "x = np.array(x)\r\n",
    "y = np.array(y)\r\n",
    "\r\n",
    "x_train, x_test, y_train, y_test = model_selection.train_test_split(x, y, random_state=1, test_size=0.3)"
   ]
  },
  {
   "cell_type": "code",
   "execution_count": 118,
   "metadata": {
    "collapsed": false
   },
   "outputs": [
    {
     "name": "stdout",
     "output_type": "stream",
     "text": [
      "x len: 29977\n",
      "y len: 29977\n"
     ]
    },
    {
     "data": {
      "text/plain": [
       "array(['1', '1', '1', ..., '0', '0', '0'], dtype='<U1')"
      ]
     },
     "execution_count": 118,
     "metadata": {},
     "output_type": "execute_result"
    }
   ],
   "source": [
    "print('x len:', len(x))\r\n",
    "print('y len:', len(y))\r\n",
    "\r\n",
    "y"
   ]
  },
  {
   "cell_type": "code",
   "execution_count": 165,
   "metadata": {
    "collapsed": false
   },
   "outputs": [],
   "source": [
    "# SVM\r\n",
    "clf = svm.SVC(C=0.5, kernel='rbf', decision_function_shape='ovr')\r\n",
    "# clf = svm.SVC(C=0.3, kernel='linear', decision_function_shape='ovr')"
   ]
  },
  {
   "cell_type": "code",
   "execution_count": 150,
   "metadata": {
    "collapsed": false
   },
   "outputs": [],
   "source": [
    "def show_accuracy(a, b, tip):\r\n",
    "    acc = (a == b)\r\n",
    "    print('%s Accuracy:%.3f' %(tip, np.mean(acc)))\r\n",
    "\r\n",
    "def print_accuracy(clf,x_train,y_train,x_test,y_test):\r\n",
    "    print(\"training data prediction: %.3f \"%(clf.score(x_train, y_train)))\r\n",
    "    print(\"testing data prediction: %.3f \"%(clf.score(x_test, y_test)))\r\n",
    "    # compare original results and predicted results\r\n",
    "    show_accuracy(clf.predict(x_train), y_train, \"training data\")\r\n",
    "    show_accuracy(clf.predict(x_test), y_test, \"testing data\")\r\n",
    "    # calculate decision function \r\n",
    "    # the three values represent the distance of x to each split plane\r\n",
    "    # print(\"decision_function:\\n\", clf.decision_function(x_train))\r\n",
    "\r\n",
    "def show_recall(y, y_hat, tip):\r\n",
    "    print('%s Recall:%.3f' % (tip, float(np.sum(y==y_hat)) / len(y)))\r\n",
    "\r\n",
    "def print_recall(clf,x_train,y_train,x_test,y_test):\r\n",
    "    show_recall(y_train, clf.predict(x_train), 'training data')\r\n",
    "    show_recall(y_test, clf.predict(x_test), 'testing data')"
   ]
  },
  {
   "cell_type": "code",
   "execution_count": 166,
   "metadata": {
    "collapsed": false
   },
   "outputs": [
    {
     "name": "stdout",
     "output_type": "stream",
     "text": [
      "training data prediction: 0.962 \n",
      "testing data prediction: 0.959 \n",
      "training data Accuracy:0.962\n",
      "testing data Accuracy:0.959\n",
      "training data Recall:0.962\n",
      "testing data Recall:0.959\n"
     ]
    }
   ],
   "source": [
    "clf.fit(x_train, y_train) \r\n",
    "print_accuracy(clf, x_train, y_train, x_test, y_test)\r\n",
    "print_recall(clf,x_train,y_train,x_test,y_test)"
   ]
  },
  {
   "cell_type": "markdown",
   "metadata": {
    "collapsed": false
   },
   "source": [
    "## 5\\. Test "
   ]
  },
  {
   "cell_type": "code",
   "execution_count": 172,
   "metadata": {
    "collapsed": false
   },
   "outputs": [
    {
     "name": "stdout",
     "output_type": "stream",
     "text": [
      "http://google.com  non-malicious one!\n",
      "http://baidu.com  non-malicious one!\n",
      "http://blog.csdn.net  non-malicious one!\n",
      "http://aistudio.baidu.com  non-malicious one!\n",
      "http://snnbcloginz.xyz/  non-malicious one!\n",
      "https://m-o-f-365.oa.r.appspot.com  malicious one!\n",
      "https://onedrive-secure.df.r.appspot.com  malicious one!\n",
      "https://smbccard.top/pc/index.php  malicious one!\n"
     ]
    }
   ],
   "source": [
    "def predict(url):\r\n",
    "    x= list()\r\n",
    "    tmp = getFeatures(url, 1)\r\n",
    "    x_tmp = tmp[3:11] + tmp[12:19]\r\n",
    "    x.append(x_tmp)\r\n",
    "    result = clf.predict(x)\r\n",
    "    # print(result)\r\n",
    "    if(result[0] == '0'):\r\n",
    "        print(url, ' non-malicious one!')\r\n",
    "    else:\r\n",
    "        print(url, ' malicious one!')\r\n",
    "        \r\n",
    "\r\n",
    "predict('http://google.com')\r\n",
    "predict('http://baidu.com')\r\n",
    "predict('http://blog.csdn.net') \r\n",
    "predict('http://aistudio.baidu.com')\r\n",
    "predict('http://snnbcloginz.xyz/') # error !!!\r\n",
    "predict('https://m-o-f-365.oa.r.appspot.com')\r\n",
    "predict('https://onedrive-secure.df.r.appspot.com')\r\n",
    "predict('https://smbccard.top/pc/index.php')"
   ]
  }
 ],
 "metadata": {
  "kernelspec": {
   "display_name": "Python 3",
   "language": "python",
   "name": "py35-paddle1.2.0"
  },
  "language_info": {
   "codemirror_mode": {
    "name": "ipython",
    "version": 3
   },
   "file_extension": ".py",
   "mimetype": "text/x-python",
   "name": "python",
   "nbconvert_exporter": "python",
   "pygments_lexer": "ipython3",
   "version": "3.7.4"
  }
 },
 "nbformat": 4,
 "nbformat_minor": 1
}
