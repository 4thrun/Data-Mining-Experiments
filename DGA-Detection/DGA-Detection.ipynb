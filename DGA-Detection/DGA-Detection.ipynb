{
 "cells": [
  {
   "cell_type": "markdown",
   "metadata": {},
   "source": [
    "# DGA\\-Detection "
   ]
  },
  {
   "cell_type": "markdown",
   "metadata": {},
   "source": [
    "## 1\\. Preparations"
   ]
  },
  {
   "cell_type": "code",
   "execution_count": 1,
   "metadata": {},
   "outputs": [
    {
     "name": "stdout",
     "output_type": "stream",
     "text": [
      "done\n"
     ]
    }
   ],
   "source": [
    "from utils import txt2csv\n",
    "import os \n",
    "\n",
    "\n",
    "data_path = './data/'\n",
    "# dga-domain.txt \n",
    "txt_path = os.path.join(data_path, \"dga-domain.txt\")\n",
    "csv_path = os.path.join(data_path, \"dga-domain.csv\")\n",
    "if txt2csv(txt_path, csv_path):\n",
    "    print(\"done\")"
   ]
  },
  {
   "cell_type": "markdown",
   "metadata": {},
   "source": [
    "## 2\\. Build Datasets\n",
    "\n",
    "- Posistive samples: dga\\-domain\\.txt (provided by **netlab 360**)\n",
    "- Negative samples: umbrella\\-top\\-1m\\.csv"
   ]
  },
  {
   "cell_type": "markdown",
   "metadata": {},
   "source": [
    "### 2\\.1 Data Source"
   ]
  },
  {
   "cell_type": "code",
   "execution_count": 2,
   "metadata": {},
   "outputs": [],
   "source": [
    "import os \n",
    "import pandas as pd "
   ]
  },
  {
   "cell_type": "code",
   "execution_count": 3,
   "metadata": {},
   "outputs": [
    {
     "data": {
      "text/plain": [
       "(1000000, 2)"
      ]
     },
     "execution_count": 3,
     "metadata": {},
     "output_type": "execute_result"
    }
   ],
   "source": [
    "# legit \n",
    "data_path = \"./data\"\n",
    "umbrella_top_1m = os.path.join(data_path, \"umbrella-top-1m.csv\")\n",
    "umbrella = pd.read_csv(umbrella_top_1m, header=None, names=['index', 'domain'])\n",
    "umbrella.drop(['index'], axis=1, inplace=True)\n",
    "umbrella['label'] = 'legit'\n",
    "umbrella.shape"
   ]
  },
  {
   "cell_type": "code",
   "execution_count": 4,
   "metadata": {},
   "outputs": [
    {
     "data": {
      "text/html": [
       "<div>\n",
       "<style scoped>\n",
       "    .dataframe tbody tr th:only-of-type {\n",
       "        vertical-align: middle;\n",
       "    }\n",
       "\n",
       "    .dataframe tbody tr th {\n",
       "        vertical-align: top;\n",
       "    }\n",
       "\n",
       "    .dataframe thead th {\n",
       "        text-align: right;\n",
       "    }\n",
       "</style>\n",
       "<table border=\"1\" class=\"dataframe\">\n",
       "  <thead>\n",
       "    <tr style=\"text-align: right;\">\n",
       "      <th></th>\n",
       "      <th>domain</th>\n",
       "      <th>label</th>\n",
       "    </tr>\n",
       "  </thead>\n",
       "  <tbody>\n",
       "    <tr>\n",
       "      <th>0</th>\n",
       "      <td>google.com</td>\n",
       "      <td>legit</td>\n",
       "    </tr>\n",
       "    <tr>\n",
       "      <th>1</th>\n",
       "      <td>microsoft.com</td>\n",
       "      <td>legit</td>\n",
       "    </tr>\n",
       "    <tr>\n",
       "      <th>2</th>\n",
       "      <td>www.google.com</td>\n",
       "      <td>legit</td>\n",
       "    </tr>\n",
       "    <tr>\n",
       "      <th>3</th>\n",
       "      <td>data.microsoft.com</td>\n",
       "      <td>legit</td>\n",
       "    </tr>\n",
       "    <tr>\n",
       "      <th>4</th>\n",
       "      <td>facebook.com</td>\n",
       "      <td>legit</td>\n",
       "    </tr>\n",
       "  </tbody>\n",
       "</table>\n",
       "</div>"
      ],
      "text/plain": [
       "               domain  label\n",
       "0          google.com  legit\n",
       "1       microsoft.com  legit\n",
       "2      www.google.com  legit\n",
       "3  data.microsoft.com  legit\n",
       "4        facebook.com  legit"
      ]
     },
     "execution_count": 4,
     "metadata": {},
     "output_type": "execute_result"
    }
   ],
   "source": [
    "umbrella.head()"
   ]
  },
  {
   "cell_type": "code",
   "execution_count": 5,
   "metadata": {},
   "outputs": [
    {
     "data": {
      "text/plain": [
       "(1324294, 2)"
      ]
     },
     "execution_count": 5,
     "metadata": {},
     "output_type": "execute_result"
    }
   ],
   "source": [
    "# DGA\n",
    "data_path = './data'\n",
    "lab_360 = os.path.join(data_path, 'dga-domain.csv')\n",
    "dga = pd.read_csv(lab_360, header=None, names=['index', 'domain', 'label'])\n",
    "# only one record \n",
    "dga.drop(dga.index[dga['label'].isin(['mirai', 'xshellghost', 'ccleaner', 'madmax'])], axis=0, inplace=True)\n",
    "dga.drop([\"index\"], axis=1, inplace=True)\n",
    "dga.shape "
   ]
  },
  {
   "cell_type": "code",
   "execution_count": 6,
   "metadata": {},
   "outputs": [
    {
     "data": {
      "text/html": [
       "<div>\n",
       "<style scoped>\n",
       "    .dataframe tbody tr th:only-of-type {\n",
       "        vertical-align: middle;\n",
       "    }\n",
       "\n",
       "    .dataframe tbody tr th {\n",
       "        vertical-align: top;\n",
       "    }\n",
       "\n",
       "    .dataframe thead th {\n",
       "        text-align: right;\n",
       "    }\n",
       "</style>\n",
       "<table border=\"1\" class=\"dataframe\">\n",
       "  <thead>\n",
       "    <tr style=\"text-align: right;\">\n",
       "      <th></th>\n",
       "      <th>domain</th>\n",
       "      <th>label</th>\n",
       "    </tr>\n",
       "  </thead>\n",
       "  <tbody>\n",
       "    <tr>\n",
       "      <th>0</th>\n",
       "      <td>jkybwgxpfr.com</td>\n",
       "      <td>nymaim</td>\n",
       "    </tr>\n",
       "    <tr>\n",
       "      <th>1</th>\n",
       "      <td>scxjfe.com</td>\n",
       "      <td>nymaim</td>\n",
       "    </tr>\n",
       "    <tr>\n",
       "      <th>2</th>\n",
       "      <td>xmkrwnrrtes.com</td>\n",
       "      <td>nymaim</td>\n",
       "    </tr>\n",
       "    <tr>\n",
       "      <th>3</th>\n",
       "      <td>cagqhss.net</td>\n",
       "      <td>nymaim</td>\n",
       "    </tr>\n",
       "    <tr>\n",
       "      <th>4</th>\n",
       "      <td>vljdew.com</td>\n",
       "      <td>nymaim</td>\n",
       "    </tr>\n",
       "  </tbody>\n",
       "</table>\n",
       "</div>"
      ],
      "text/plain": [
       "            domain   label\n",
       "0   jkybwgxpfr.com  nymaim\n",
       "1       scxjfe.com  nymaim\n",
       "2  xmkrwnrrtes.com  nymaim\n",
       "3      cagqhss.net  nymaim\n",
       "4       vljdew.com  nymaim"
      ]
     },
     "execution_count": 6,
     "metadata": {},
     "output_type": "execute_result"
    }
   ],
   "source": [
    "dga.head()"
   ]
  },
  {
   "cell_type": "code",
   "execution_count": 7,
   "metadata": {},
   "outputs": [
    {
     "data": {
      "text/plain": [
       "(2324294, 2)"
      ]
     },
     "execution_count": 7,
     "metadata": {},
     "output_type": "execute_result"
    }
   ],
   "source": [
    "frames = [umbrella, dga]\n",
    "data = pd.concat(frames)\n",
    "data.shape"
   ]
  },
  {
   "cell_type": "markdown",
   "metadata": {},
   "source": [
    "### 2\\.2 Dataset Division "
   ]
  },
  {
   "cell_type": "code",
   "execution_count": 8,
   "metadata": {},
   "outputs": [],
   "source": [
    "import matplotlib.pyplot as plt \n",
    "import pandas as pd \n",
    "import numpy as np \n",
    "from sklearn.model_selection import train_test_split"
   ]
  },
  {
   "cell_type": "code",
   "execution_count": 9,
   "metadata": {},
   "outputs": [
    {
     "data": {
      "image/png": "[encoded data removed]",
      "text/plain": [
       "<Figure size 1008x432 with 2 Axes>"
      ]
     },
     "metadata": {
      "needs_background": "light"
     },
     "output_type": "display_data"
    }
   ],
   "source": [
    "# positive VS negative \n",
    "data['label_dga'] = data['label'].map(lambda x: 1 if not x=='legit' else 0)\n",
    "\n",
    "f, ax = plt.subplots(1, 2, figsize=(14,6))\n",
    "data['label_dga'].value_counts().plot.pie(autopct=\"%1.1f%%\", ax=ax[0], shadow=True)\n",
    "ax[0].set_title('label_bga')\n",
    "data['label_dga'].value_counts().plot.bar(ax=ax[1])\n",
    "ax[1].set_title('label_dga')\n",
    "plt.show()"
   ]
  },
  {
   "cell_type": "code",
   "execution_count": 10,
   "metadata": {},
   "outputs": [
    {
     "data": {
      "image/png": "[encoded data removed]",
      "text/plain": [
       "<Figure size 1008x432 with 2 Axes>"
      ]
     },
     "metadata": {
      "needs_background": "light"
     },
     "output_type": "display_data"
    }
   ],
   "source": [
    "# percentage of each category in DGA\n",
    "f, ax = plt.subplots(1, 2, figsize=(14,6))\n",
    "data['label'].value_counts().plot.pie(autopct='%1.1f%%', ax=ax[0], shadow=True)\n",
    "ax[0].set_title('label')\n",
    "data['label'].value_counts().plot.bar(ax=ax[1])\n",
    "ax[1].set_title('label')\n",
    "plt.show()"
   ]
  },
  {
   "cell_type": "code",
   "execution_count": 11,
   "metadata": {},
   "outputs": [
    {
     "data": {
      "text/html": [
       "<div>\n",
       "<style scoped>\n",
       "    .dataframe tbody tr th:only-of-type {\n",
       "        vertical-align: middle;\n",
       "    }\n",
       "\n",
       "    .dataframe tbody tr th {\n",
       "        vertical-align: top;\n",
       "    }\n",
       "\n",
       "    .dataframe thead th {\n",
       "        text-align: right;\n",
       "    }\n",
       "</style>\n",
       "<table border=\"1\" class=\"dataframe\">\n",
       "  <thead>\n",
       "    <tr style=\"text-align: right;\">\n",
       "      <th></th>\n",
       "      <th>family</th>\n",
       "      <th>number</th>\n",
       "      <th>ratio</th>\n",
       "    </tr>\n",
       "  </thead>\n",
       "  <tbody>\n",
       "    <tr>\n",
       "      <th>0</th>\n",
       "      <td>legit</td>\n",
       "      <td>1000000</td>\n",
       "      <td>4.302382e-01</td>\n",
       "    </tr>\n",
       "    <tr>\n",
       "      <th>1</th>\n",
       "      <td>banjori</td>\n",
       "      <td>452404</td>\n",
       "      <td>1.946415e-01</td>\n",
       "    </tr>\n",
       "    <tr>\n",
       "      <th>2</th>\n",
       "      <td>emotet</td>\n",
       "      <td>420860</td>\n",
       "      <td>1.810700e-01</td>\n",
       "    </tr>\n",
       "    <tr>\n",
       "      <th>3</th>\n",
       "      <td>rovnix</td>\n",
       "      <td>180000</td>\n",
       "      <td>7.744287e-02</td>\n",
       "    </tr>\n",
       "    <tr>\n",
       "      <th>4</th>\n",
       "      <td>tinba</td>\n",
       "      <td>100680</td>\n",
       "      <td>4.331638e-02</td>\n",
       "    </tr>\n",
       "    <tr>\n",
       "      <th>5</th>\n",
       "      <td>pykspa_v1</td>\n",
       "      <td>44675</td>\n",
       "      <td>1.922089e-02</td>\n",
       "    </tr>\n",
       "    <tr>\n",
       "      <th>6</th>\n",
       "      <td>simda</td>\n",
       "      <td>25328</td>\n",
       "      <td>1.089707e-02</td>\n",
       "    </tr>\n",
       "    <tr>\n",
       "      <th>7</th>\n",
       "      <td>ramnit</td>\n",
       "      <td>20079</td>\n",
       "      <td>8.638752e-03</td>\n",
       "    </tr>\n",
       "    <tr>\n",
       "      <th>8</th>\n",
       "      <td>gameover</td>\n",
       "      <td>12000</td>\n",
       "      <td>5.162858e-03</td>\n",
       "    </tr>\n",
       "    <tr>\n",
       "      <th>9</th>\n",
       "      <td>ranbyus</td>\n",
       "      <td>10839</td>\n",
       "      <td>4.663352e-03</td>\n",
       "    </tr>\n",
       "    <tr>\n",
       "      <th>10</th>\n",
       "      <td>virut</td>\n",
       "      <td>9730</td>\n",
       "      <td>4.186217e-03</td>\n",
       "    </tr>\n",
       "    <tr>\n",
       "      <th>11</th>\n",
       "      <td>murofet</td>\n",
       "      <td>8560</td>\n",
       "      <td>3.682839e-03</td>\n",
       "    </tr>\n",
       "    <tr>\n",
       "      <th>12</th>\n",
       "      <td>necurs</td>\n",
       "      <td>8186</td>\n",
       "      <td>3.521930e-03</td>\n",
       "    </tr>\n",
       "    <tr>\n",
       "      <th>13</th>\n",
       "      <td>shiotob</td>\n",
       "      <td>8004</td>\n",
       "      <td>3.443626e-03</td>\n",
       "    </tr>\n",
       "    <tr>\n",
       "      <th>14</th>\n",
       "      <td>symmi</td>\n",
       "      <td>4256</td>\n",
       "      <td>1.831094e-03</td>\n",
       "    </tr>\n",
       "    <tr>\n",
       "      <th>15</th>\n",
       "      <td>shifu</td>\n",
       "      <td>2549</td>\n",
       "      <td>1.096677e-03</td>\n",
       "    </tr>\n",
       "    <tr>\n",
       "      <th>16</th>\n",
       "      <td>suppobox</td>\n",
       "      <td>2234</td>\n",
       "      <td>9.611521e-04</td>\n",
       "    </tr>\n",
       "    <tr>\n",
       "      <th>17</th>\n",
       "      <td>qadars</td>\n",
       "      <td>2000</td>\n",
       "      <td>8.604763e-04</td>\n",
       "    </tr>\n",
       "    <tr>\n",
       "      <th>18</th>\n",
       "      <td>locky</td>\n",
       "      <td>1158</td>\n",
       "      <td>4.982158e-04</td>\n",
       "    </tr>\n",
       "    <tr>\n",
       "      <th>19</th>\n",
       "      <td>bigviktor</td>\n",
       "      <td>1000</td>\n",
       "      <td>4.302382e-04</td>\n",
       "    </tr>\n",
       "    <tr>\n",
       "      <th>20</th>\n",
       "      <td>cryptolocker</td>\n",
       "      <td>1000</td>\n",
       "      <td>4.302382e-04</td>\n",
       "    </tr>\n",
       "    <tr>\n",
       "      <th>21</th>\n",
       "      <td>dyre</td>\n",
       "      <td>1000</td>\n",
       "      <td>4.302382e-04</td>\n",
       "    </tr>\n",
       "    <tr>\n",
       "      <th>22</th>\n",
       "      <td>chinad</td>\n",
       "      <td>1000</td>\n",
       "      <td>4.302382e-04</td>\n",
       "    </tr>\n",
       "    <tr>\n",
       "      <th>23</th>\n",
       "      <td>matsnu</td>\n",
       "      <td>908</td>\n",
       "      <td>3.906563e-04</td>\n",
       "    </tr>\n",
       "    <tr>\n",
       "      <th>24</th>\n",
       "      <td>vawtrak</td>\n",
       "      <td>828</td>\n",
       "      <td>3.562372e-04</td>\n",
       "    </tr>\n",
       "    <tr>\n",
       "      <th>25</th>\n",
       "      <td>pykspa_v2_fake</td>\n",
       "      <td>800</td>\n",
       "      <td>3.441905e-04</td>\n",
       "    </tr>\n",
       "    <tr>\n",
       "      <th>26</th>\n",
       "      <td>dircrypt</td>\n",
       "      <td>772</td>\n",
       "      <td>3.321439e-04</td>\n",
       "    </tr>\n",
       "    <tr>\n",
       "      <th>27</th>\n",
       "      <td>enviserv</td>\n",
       "      <td>500</td>\n",
       "      <td>2.151191e-04</td>\n",
       "    </tr>\n",
       "    <tr>\n",
       "      <th>28</th>\n",
       "      <td>conficker</td>\n",
       "      <td>495</td>\n",
       "      <td>2.129679e-04</td>\n",
       "    </tr>\n",
       "    <tr>\n",
       "      <th>29</th>\n",
       "      <td>nymaim</td>\n",
       "      <td>477</td>\n",
       "      <td>2.052236e-04</td>\n",
       "    </tr>\n",
       "    <tr>\n",
       "      <th>30</th>\n",
       "      <td>fobber_v2</td>\n",
       "      <td>300</td>\n",
       "      <td>1.290715e-04</td>\n",
       "    </tr>\n",
       "    <tr>\n",
       "      <th>31</th>\n",
       "      <td>fobber_v1</td>\n",
       "      <td>299</td>\n",
       "      <td>1.286412e-04</td>\n",
       "    </tr>\n",
       "    <tr>\n",
       "      <th>32</th>\n",
       "      <td>feodo</td>\n",
       "      <td>263</td>\n",
       "      <td>1.131526e-04</td>\n",
       "    </tr>\n",
       "    <tr>\n",
       "      <th>33</th>\n",
       "      <td>pykspa_v2_real</td>\n",
       "      <td>200</td>\n",
       "      <td>8.604763e-05</td>\n",
       "    </tr>\n",
       "    <tr>\n",
       "      <th>34</th>\n",
       "      <td>tempedreve</td>\n",
       "      <td>194</td>\n",
       "      <td>8.346621e-05</td>\n",
       "    </tr>\n",
       "    <tr>\n",
       "      <th>35</th>\n",
       "      <td>padcrypt</td>\n",
       "      <td>168</td>\n",
       "      <td>7.228001e-05</td>\n",
       "    </tr>\n",
       "    <tr>\n",
       "      <th>36</th>\n",
       "      <td>bamital</td>\n",
       "      <td>104</td>\n",
       "      <td>4.474477e-05</td>\n",
       "    </tr>\n",
       "    <tr>\n",
       "      <th>37</th>\n",
       "      <td>gspy</td>\n",
       "      <td>100</td>\n",
       "      <td>4.302382e-05</td>\n",
       "    </tr>\n",
       "    <tr>\n",
       "      <th>38</th>\n",
       "      <td>vidro</td>\n",
       "      <td>100</td>\n",
       "      <td>4.302382e-05</td>\n",
       "    </tr>\n",
       "    <tr>\n",
       "      <th>39</th>\n",
       "      <td>proslikefan</td>\n",
       "      <td>100</td>\n",
       "      <td>4.302382e-05</td>\n",
       "    </tr>\n",
       "    <tr>\n",
       "      <th>40</th>\n",
       "      <td>mydoom</td>\n",
       "      <td>50</td>\n",
       "      <td>2.151191e-05</td>\n",
       "    </tr>\n",
       "    <tr>\n",
       "      <th>41</th>\n",
       "      <td>omexo</td>\n",
       "      <td>40</td>\n",
       "      <td>1.720953e-05</td>\n",
       "    </tr>\n",
       "    <tr>\n",
       "      <th>42</th>\n",
       "      <td>tinynuke</td>\n",
       "      <td>32</td>\n",
       "      <td>1.376762e-05</td>\n",
       "    </tr>\n",
       "    <tr>\n",
       "      <th>43</th>\n",
       "      <td>tofsee</td>\n",
       "      <td>20</td>\n",
       "      <td>8.604763e-06</td>\n",
       "    </tr>\n",
       "    <tr>\n",
       "      <th>44</th>\n",
       "      <td>blackhole</td>\n",
       "      <td>2</td>\n",
       "      <td>8.604763e-07</td>\n",
       "    </tr>\n",
       "  </tbody>\n",
       "</table>\n",
       "</div>"
      ],
      "text/plain": [
       "            family   number         ratio\n",
       "0            legit  1000000  4.302382e-01\n",
       "1          banjori   452404  1.946415e-01\n",
       "2           emotet   420860  1.810700e-01\n",
       "3           rovnix   180000  7.744287e-02\n",
       "4            tinba   100680  4.331638e-02\n",
       "5        pykspa_v1    44675  1.922089e-02\n",
       "6            simda    25328  1.089707e-02\n",
       "7           ramnit    20079  8.638752e-03\n",
       "8         gameover    12000  5.162858e-03\n",
       "9          ranbyus    10839  4.663352e-03\n",
       "10           virut     9730  4.186217e-03\n",
       "11         murofet     8560  3.682839e-03\n",
       "12          necurs     8186  3.521930e-03\n",
       "13         shiotob     8004  3.443626e-03\n",
       "14           symmi     4256  1.831094e-03\n",
       "15           shifu     2549  1.096677e-03\n",
       "16        suppobox     2234  9.611521e-04\n",
       "17          qadars     2000  8.604763e-04\n",
       "18           locky     1158  4.982158e-04\n",
       "19       bigviktor     1000  4.302382e-04\n",
       "20    cryptolocker     1000  4.302382e-04\n",
       "21            dyre     1000  4.302382e-04\n",
       "22          chinad     1000  4.302382e-04\n",
       "23          matsnu      908  3.906563e-04\n",
       "24         vawtrak      828  3.562372e-04\n",
       "25  pykspa_v2_fake      800  3.441905e-04\n",
       "26        dircrypt      772  3.321439e-04\n",
       "27        enviserv      500  2.151191e-04\n",
       "28       conficker      495  2.129679e-04\n",
       "29          nymaim      477  2.052236e-04\n",
       "30       fobber_v2      300  1.290715e-04\n",
       "31       fobber_v1      299  1.286412e-04\n",
       "32           feodo      263  1.131526e-04\n",
       "33  pykspa_v2_real      200  8.604763e-05\n",
       "34      tempedreve      194  8.346621e-05\n",
       "35        padcrypt      168  7.228001e-05\n",
       "36         bamital      104  4.474477e-05\n",
       "37            gspy      100  4.302382e-05\n",
       "38           vidro      100  4.302382e-05\n",
       "39     proslikefan      100  4.302382e-05\n",
       "40          mydoom       50  2.151191e-05\n",
       "41           omexo       40  1.720953e-05\n",
       "42        tinynuke       32  1.376762e-05\n",
       "43          tofsee       20  8.604763e-06\n",
       "44       blackhole        2  8.604763e-07"
      ]
     },
     "execution_count": 11,
     "metadata": {},
     "output_type": "execute_result"
    }
   ],
   "source": [
    "data_statis = pd.DataFrame()\n",
    "label_counts = data[\"label\"].value_counts()\n",
    "data_statis['family'] = label_counts.index\n",
    "data_statis[\"number\"] = label_counts.values\n",
    "data_statis['ratio'] = label_counts.values / np.sum(data_statis[\"number\"])\n",
    "data_statis"
   ]
  },
  {
   "cell_type": "markdown",
   "metadata": {},
   "source": [
    "### 2\\.3 Feature Selection"
   ]
  },
  {
   "cell_type": "code",
   "execution_count": 12,
   "metadata": {},
   "outputs": [],
   "source": [
    "from utils import *\n",
    "import os "
   ]
  },
  {
   "cell_type": "code",
   "execution_count": 13,
   "metadata": {},
   "outputs": [],
   "source": [
    "data_path = \"./data/\"\n",
    "corpus = os.path.join(data_path, 'corpus.txt')"
   ]
  },
  {
   "cell_type": "code",
   "execution_count": 14,
   "metadata": {},
   "outputs": [],
   "source": [
    "ng = NGrams(corpus)\n",
    "\n",
    "def get_n_gram_score(domain):\n",
    "    return log10(ng.get_domain_score(domain))\n",
    "\n",
    "\n",
    "def get_feats(domain):\n",
    "    return [\n",
    "        domain_length(domain), \n",
    "        domain_entropy(domain),\n",
    "        conso_percent(domain),\n",
    "        vowels_persent(domain),\n",
    "        digits_persent(domain), \n",
    "        get_n_gram_score(domain), \n",
    "    ]"
   ]
  },
  {
   "cell_type": "code",
   "execution_count": 15,
   "metadata": {},
   "outputs": [],
   "source": [
    "tmp_data = data.sample(n=40000, random_state=0)\n",
    "tmp_domain = tmp_data[\"domain\"].tolist()\n",
    "tmp_label = tmp_data[\"label_dga\"].tolist()\n",
    "X = [get_feats(i) for i in tmp_domain]"
   ]
  },
  {
   "cell_type": "code",
   "execution_count": 16,
   "metadata": {},
   "outputs": [],
   "source": [
    "from sklearn.model_selection import train_test_split\n",
    "\n",
    "\n",
    "X = np.array(X)\n",
    "y = np.array(tmp_label)\n",
    "X_train, X_test, y_train, y_test = train_test_split(X, y, random_state=0)"
   ]
  },
  {
   "cell_type": "code",
   "execution_count": 17,
   "metadata": {},
   "outputs": [
    {
     "data": {
      "text/plain": [
       "array([0, 1, 1, ..., 1, 1, 1])"
      ]
     },
     "execution_count": 17,
     "metadata": {},
     "output_type": "execute_result"
    }
   ],
   "source": [
    "y_train"
   ]
  },
  {
   "cell_type": "markdown",
   "metadata": {},
   "source": [
    "## 3\\. Training & Testing \n",
    "\n",
    "Use SVM."
   ]
  },
  {
   "cell_type": "code",
   "execution_count": 18,
   "metadata": {},
   "outputs": [],
   "source": [
    "# normalization \n",
    "from sklearn.preprocessing import StandardScaler\n",
    "\n",
    "\n",
    "transfer=StandardScaler()\n",
    "\n",
    "X_train=transfer.fit_transform(X_train)\n",
    "X_test=transfer.transform(X_test)"
   ]
  },
  {
   "cell_type": "code",
   "execution_count": 19,
   "metadata": {},
   "outputs": [],
   "source": [
    "from sklearn.svm import SVC\n",
    "from sklearn.model_selection import GridSearchCV"
   ]
  },
  {
   "cell_type": "code",
   "execution_count": 20,
   "metadata": {},
   "outputs": [
    {
     "name": "stdout",
     "output_type": "stream",
     "text": [
      "best params: \n",
      " {'C': 1.0}\n",
      "best score: \n",
      " 0.9364666666666667\n"
     ]
    }
   ],
   "source": [
    "clf = SVC(C=0.5)\n",
    "param_grid={\n",
    "    'C': [0.5, 0.6, 0.7, 0.8, 0.9, 1.0],\n",
    "}\n",
    "clf = GridSearchCV(clf, param_grid=param_grid, cv=2)\n",
    "clf.fit(X_train, y_train)\n",
    "\n",
    "print('best params: \\n', clf.best_params_)\n",
    "print('best score: \\n', clf.best_score_)"
   ]
  },
  {
   "cell_type": "code",
   "execution_count": 21,
   "metadata": {},
   "outputs": [
    {
     "name": "stdout",
     "output_type": "stream",
     "text": [
      "Accuracy:  0.9415\n",
      "Callback:  0.9481390015875816\n"
     ]
    }
   ],
   "source": [
    "y_pred=clf.predict(X_test)\n",
    "\n",
    "from sklearn.metrics import accuracy_score, recall_score\n",
    "\n",
    "print('Accuracy: ', accuracy_score(y_test,y_pred))\n",
    "print('Callback: ', recall_score(y_test,y_pred))"
   ]
  }
 ],
 "metadata": {
  "interpreter": {
   "hash": "0eca981fe900e9750e45e09bbee668f8ce84a60a4cc881d6bc093d163bf48111"
  },
  "kernelspec": {
   "display_name": "Python 3.9.6 64-bit ('venv': venv)",
   "name": "python3"
  },
  "language_info": {
   "codemirror_mode": {
    "name": "ipython",
    "version": 3
   },
   "file_extension": ".py",
   "mimetype": "text/x-python",
   "name": "python",
   "nbconvert_exporter": "python",
   "pygments_lexer": "ipython3",
   "version": "3.9.6"
  },
  "orig_nbformat": 4
 },
 "nbformat": 4,
 "nbformat_minor": 2
}
