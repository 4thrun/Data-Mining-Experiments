{
 "cells": [
  {
   "cell_type": "markdown",
   "metadata": {
    "collapsed": false
   },
   "source": [
    "# XSS\\-Detection\n",
    "\n",
    "Data: **dmzo\\_nomal\\.csv** as positive samples and **xssed.csv** as XSS samples\\.\n",
    "\n",
    "Process:\n",
    "1. Normalization\n",
    "2. Segmentation\n",
    "3. Feature extraction (word2vec, doc2vec or statistics)\n",
    "4. SVM\n"
   ]
  },
  {
   "cell_type": "markdown",
   "metadata": {
    "collapsed": false
   },
   "source": [
    "## 1\\. Load Data"
   ]
  },
  {
   "cell_type": "code",
   "execution_count": 1,
   "metadata": {
    "collapsed": false
   },
   "outputs": [
    {
     "name": "stdout",
     "output_type": "stream",
     "text": [
      "Looking in indexes: https://pypi.tuna.tsinghua.edu.cn/simple\n",
      "Collecting gensim==4.1.2\n",
      "\u001b[?25l  Downloading https://pypi.tuna.tsinghua.edu.cn/packages/9f/44/985c6291f160aca1257dae9b5bb62d91d0f61f12014297a2fa80e6464be1/gensim-4.1.2-cp37-cp37m-manylinux_2_12_x86_64.manylinux2010_x86_64.whl (24.1MB)\n",
      "\u001b[K     |████████████████████████████████| 24.1MB 25.2MB/s eta 0:00:01     |██████████████████████          | 16.6MB 25.2MB/s eta 0:00:01\n",
      "\u001b[?25hRequirement already satisfied: scipy>=0.18.1 in /opt/conda/envs/python35-paddle120-env/lib/python3.7/site-packages (from gensim==4.1.2) (1.3.0)\n",
      "Collecting numpy>=1.17.0 (from gensim==4.1.2)\n",
      "\u001b[?25l  Downloading https://pypi.tuna.tsinghua.edu.cn/packages/68/2d/0fe6592a96a1da097a33fb87b9618197c8a1801e84c7483fa7b93794a87c/numpy-1.21.2-cp37-cp37m-manylinux_2_12_x86_64.manylinux2010_x86_64.whl (15.7MB)\n",
      "\u001b[K     |████████████████████████████████| 15.7MB 39.2MB/s eta 0:00:01\n",
      "\u001b[?25hCollecting smart-open>=1.8.1 (from gensim==4.1.2)\n",
      "\u001b[?25l  Downloading https://pypi.tuna.tsinghua.edu.cn/packages/cd/11/05f68ea934c24ade38e95ac30a38407767787c4e3db1776eae4886ad8c95/smart_open-5.2.1-py3-none-any.whl (58kB)\n",
      "\u001b[K     |████████████████████████████████| 61kB 25.9MB/s eta 0:00:01\n",
      "\u001b[31mERROR: blackhole 1.0.1 has requirement numpy<=1.19.5, but you'll have numpy 1.21.2 which is incompatible.\u001b[0m\n",
      "\u001b[?25hInstalling collected packages: numpy, smart-open, gensim\n",
      "  Found existing installation: numpy 1.16.4\n",
      "    Uninstalling numpy-1.16.4:\n",
      "      Successfully uninstalled numpy-1.16.4\n",
      "Successfully installed gensim-4.1.2 numpy-1.21.2 smart-open-5.2.1\n",
      "Looking in indexes: https://pypi.tuna.tsinghua.edu.cn/simple\n",
      "Collecting numpy==1.19.5\n",
      "\u001b[?25l  Downloading https://pypi.tuna.tsinghua.edu.cn/packages/08/d6/a6aaa29fea945bc6c61d11f6e0697b325ff7446de5ffd62c2fa02f627048/numpy-1.19.5-cp37-cp37m-manylinux2010_x86_64.whl (14.8MB)\n",
      "\u001b[K     |████████████████████████████████| 14.8MB 8.0MB/s eta 0:00:01\n",
      "\u001b[?25hInstalling collected packages: numpy\n",
      "  Found existing installation: numpy 1.21.2\n",
      "    Uninstalling numpy-1.21.2:\n",
      "      Successfully uninstalled numpy-1.21.2\n",
      "Successfully installed numpy-1.19.5\n"
     ]
    }
   ],
   "source": [
    "!pip install gensim==4.1.2\r\n",
    "!pip install numpy==1.19.5"
   ]
  },
  {
   "cell_type": "code",
   "execution_count": 2,
   "metadata": {
    "collapsed": false
   },
   "outputs": [],
   "source": [
    "import os \r\n",
    "import pandas as pd \r\n",
    "\r\n",
    "# data_path = './'\r\n",
    "# work_path = './'\r\n",
    "work_path = '/home/aistudio/work/'\r\n",
    "data_path = '/home/aistudio/data/data52101/'"
   ]
  },
  {
   "cell_type": "code",
   "execution_count": 3,
   "metadata": {
    "collapsed": false
   },
   "outputs": [],
   "source": [
    "normal = pd.read_csv(os.path.join(data_path, 'dmzo_nomal.csv'), header=None, names=['raw'])\r\n",
    "mal = pd.read_csv(os.path.join(data_path, 'xssed.csv'), header=None, names=['raw'])\r\n",
    "normal_df = pd.DataFrame(normal)\r\n",
    "mal_df = pd.DataFrame(mal)\r\n",
    "\r\n",
    "# mal_df\r\n",
    "# normal_df"
   ]
  },
  {
   "cell_type": "code",
   "execution_count": 4,
   "metadata": {
    "collapsed": false
   },
   "outputs": [
    {
     "data": {
      "text/html": [
       "<div>\n",
       "<style scoped>\n",
       "    .dataframe tbody tr th:only-of-type {\n",
       "        vertical-align: middle;\n",
       "    }\n",
       "\n",
       "    .dataframe tbody tr th {\n",
       "        vertical-align: top;\n",
       "    }\n",
       "\n",
       "    .dataframe thead th {\n",
       "        text-align: right;\n",
       "    }\n",
       "</style>\n",
       "<table border=\"1\" class=\"dataframe\">\n",
       "  <thead>\n",
       "    <tr style=\"text-align: right;\">\n",
       "      <th></th>\n",
       "      <th>raw</th>\n",
       "    </tr>\n",
       "  </thead>\n",
       "  <tbody>\n",
       "    <tr>\n",
       "      <th>0</th>\n",
       "      <td>sid=&amp;amp;ring=hentff98&amp;amp;id=&amp;amp;list</td>\n",
       "    </tr>\n",
       "    <tr>\n",
       "      <th>1</th>\n",
       "      <td>ring=yaoi28</td>\n",
       "    </tr>\n",
       "    <tr>\n",
       "      <th>2</th>\n",
       "      <td>mode=navigation&amp;amp;categoryid=1141</td>\n",
       "    </tr>\n",
       "    <tr>\n",
       "      <th>3</th>\n",
       "      <td>lang=en</td>\n",
       "    </tr>\n",
       "    <tr>\n",
       "      <th>4</th>\n",
       "      <td>ring=bettie</td>\n",
       "    </tr>\n",
       "  </tbody>\n",
       "</table>\n",
       "</div>"
      ],
      "text/plain": [
       "                                       raw\n",
       "0  sid=&amp;ring=hentff98&amp;id=&amp;list\n",
       "1                              ring=yaoi28\n",
       "2      mode=navigation&amp;categoryid=1141\n",
       "3                                  lang=en\n",
       "4                              ring=bettie"
      ]
     },
     "execution_count": 4,
     "metadata": {},
     "output_type": "execute_result"
    }
   ],
   "source": [
    "normal_df.head()"
   ]
  },
  {
   "cell_type": "code",
   "execution_count": 5,
   "metadata": {
    "collapsed": false
   },
   "outputs": [
    {
     "data": {
      "text/html": [
       "<div>\n",
       "<style scoped>\n",
       "    .dataframe tbody tr th:only-of-type {\n",
       "        vertical-align: middle;\n",
       "    }\n",
       "\n",
       "    .dataframe tbody tr th {\n",
       "        vertical-align: top;\n",
       "    }\n",
       "\n",
       "    .dataframe thead th {\n",
       "        text-align: right;\n",
       "    }\n",
       "</style>\n",
       "<table border=\"1\" class=\"dataframe\">\n",
       "  <thead>\n",
       "    <tr style=\"text-align: right;\">\n",
       "      <th></th>\n",
       "      <th>raw</th>\n",
       "    </tr>\n",
       "  </thead>\n",
       "  <tbody>\n",
       "    <tr>\n",
       "      <th>0</th>\n",
       "      <td>form.search_text=Dell%22%3E%3Cscript%3Ealert(/...</td>\n",
       "    </tr>\n",
       "    <tr>\n",
       "      <th>1</th>\n",
       "      <td>site=message&amp;msg=&lt;script&gt;alert(1)&lt;/script&gt;</td>\n",
       "    </tr>\n",
       "    <tr>\n",
       "      <th>2</th>\n",
       "      <td>Itemid=%22onmouseover=alert%28document.cookie%...</td>\n",
       "    </tr>\n",
       "    <tr>\n",
       "      <th>3</th>\n",
       "      <td>uilang=en%22%3E%3Cscript%3Ealert%28document.co...</td>\n",
       "    </tr>\n",
       "    <tr>\n",
       "      <th>4</th>\n",
       "      <td>msg=&lt;ScRiPt&gt;alert('LastRider-CyberBellona')&lt;/S...</td>\n",
       "    </tr>\n",
       "  </tbody>\n",
       "</table>\n",
       "</div>"
      ],
      "text/plain": [
       "                                                 raw\n",
       "0  form.search_text=Dell%22%3E%3Cscript%3Ealert(/...\n",
       "1         site=message&msg=<script>alert(1)</script>\n",
       "2  Itemid=%22onmouseover=alert%28document.cookie%...\n",
       "3  uilang=en%22%3E%3Cscript%3Ealert%28document.co...\n",
       "4  msg=<ScRiPt>alert('LastRider-CyberBellona')</S..."
      ]
     },
     "execution_count": 5,
     "metadata": {},
     "output_type": "execute_result"
    }
   ],
   "source": [
    "mal_df.head()"
   ]
  },
  {
   "cell_type": "markdown",
   "metadata": {
    "collapsed": false
   },
   "source": [
    "## 2\\. Normalization and Segmentation\n"
   ]
  },
  {
   "cell_type": "code",
   "execution_count": 6,
   "metadata": {
    "collapsed": false
   },
   "outputs": [],
   "source": [
    "import nltk \r\n",
    "import re \r\n",
    "from urllib.parse import unquote \r\n",
    "\r\n",
    "def GeneSeg(payload):\r\n",
    "    # digits -> '0'\r\n",
    "    payload = payload.lower()\r\n",
    "    payload = unquote(unquote(payload))\r\n",
    "    payload, num = re.subn(r'\\d+', '0', payload)\r\n",
    "    # url -> 'http://u'\r\n",
    "    payload, num = re.subn(r'(http|https)://[a-zA-Z0-9\\.@&/#!#\\?]+', \"http://u\", payload)\r\n",
    "    # segmentation \r\n",
    "    r = '''\r\n",
    "        (?x)[\\w\\.]+?\\(\r\n",
    "        |\\)\r\n",
    "        |\"\\w+?\"\r\n",
    "        |'\\w+?'\r\n",
    "        |http://\\w\r\n",
    "        |</\\w+>\r\n",
    "        |<\\w+>\r\n",
    "        |<\\w+\r\n",
    "        |\\w+=\r\n",
    "        |>\r\n",
    "        |[\\w\\.]+\r\n",
    "        '''\r\n",
    "    return nltk.regexp_tokenize(payload, r)"
   ]
  },
  {
   "cell_type": "code",
   "execution_count": 7,
   "metadata": {
    "collapsed": false
   },
   "outputs": [
    {
     "name": "stdout",
     "output_type": "stream",
     "text": [
      "31407\n",
      "33426\n"
     ]
    }
   ],
   "source": [
    "# add a new column \r\n",
    "normal_df[\"parsed\"] = normal_df['raw'].apply(GeneSeg)\r\n",
    "mal_df['parsed'] = mal_df['raw'].apply(GeneSeg)\r\n",
    "print(len(normal_df))\r\n",
    "print(len(mal_df))"
   ]
  },
  {
   "cell_type": "code",
   "execution_count": 8,
   "metadata": {
    "collapsed": false
   },
   "outputs": [
    {
     "data": {
      "text/html": [
       "<div>\n",
       "<style scoped>\n",
       "    .dataframe tbody tr th:only-of-type {\n",
       "        vertical-align: middle;\n",
       "    }\n",
       "\n",
       "    .dataframe tbody tr th {\n",
       "        vertical-align: top;\n",
       "    }\n",
       "\n",
       "    .dataframe thead th {\n",
       "        text-align: right;\n",
       "    }\n",
       "</style>\n",
       "<table border=\"1\" class=\"dataframe\">\n",
       "  <thead>\n",
       "    <tr style=\"text-align: right;\">\n",
       "      <th></th>\n",
       "      <th>raw</th>\n",
       "      <th>parsed</th>\n",
       "    </tr>\n",
       "  </thead>\n",
       "  <tbody>\n",
       "    <tr>\n",
       "      <th>0</th>\n",
       "      <td>sid=&amp;amp;ring=hentff98&amp;amp;id=&amp;amp;list</td>\n",
       "      <td>[sid=, amp, ring=, hentff0, amp, id=, amp, list]</td>\n",
       "    </tr>\n",
       "    <tr>\n",
       "      <th>1</th>\n",
       "      <td>ring=yaoi28</td>\n",
       "      <td>[ring=, yaoi0]</td>\n",
       "    </tr>\n",
       "    <tr>\n",
       "      <th>2</th>\n",
       "      <td>mode=navigation&amp;amp;categoryid=1141</td>\n",
       "      <td>[mode=, navigation, amp, categoryid=, 0]</td>\n",
       "    </tr>\n",
       "    <tr>\n",
       "      <th>3</th>\n",
       "      <td>lang=en</td>\n",
       "      <td>[lang=, en]</td>\n",
       "    </tr>\n",
       "    <tr>\n",
       "      <th>4</th>\n",
       "      <td>ring=bettie</td>\n",
       "      <td>[ring=, bettie]</td>\n",
       "    </tr>\n",
       "  </tbody>\n",
       "</table>\n",
       "</div>"
      ],
      "text/plain": [
       "                                       raw  \\\n",
       "0  sid=&amp;ring=hentff98&amp;id=&amp;list   \n",
       "1                              ring=yaoi28   \n",
       "2      mode=navigation&amp;categoryid=1141   \n",
       "3                                  lang=en   \n",
       "4                              ring=bettie   \n",
       "\n",
       "                                             parsed  \n",
       "0  [sid=, amp, ring=, hentff0, amp, id=, amp, list]  \n",
       "1                                    [ring=, yaoi0]  \n",
       "2          [mode=, navigation, amp, categoryid=, 0]  \n",
       "3                                       [lang=, en]  \n",
       "4                                   [ring=, bettie]  "
      ]
     },
     "execution_count": 8,
     "metadata": {},
     "output_type": "execute_result"
    }
   ],
   "source": [
    "normal_df.head()"
   ]
  },
  {
   "cell_type": "code",
   "execution_count": 9,
   "metadata": {
    "collapsed": false
   },
   "outputs": [
    {
     "data": {
      "text/html": [
       "<div>\n",
       "<style scoped>\n",
       "    .dataframe tbody tr th:only-of-type {\n",
       "        vertical-align: middle;\n",
       "    }\n",
       "\n",
       "    .dataframe tbody tr th {\n",
       "        vertical-align: top;\n",
       "    }\n",
       "\n",
       "    .dataframe thead th {\n",
       "        text-align: right;\n",
       "    }\n",
       "</style>\n",
       "<table border=\"1\" class=\"dataframe\">\n",
       "  <thead>\n",
       "    <tr style=\"text-align: right;\">\n",
       "      <th></th>\n",
       "      <th>raw</th>\n",
       "      <th>parsed</th>\n",
       "    </tr>\n",
       "  </thead>\n",
       "  <tbody>\n",
       "    <tr>\n",
       "      <th>0</th>\n",
       "      <td>form.search_text=Dell%22%3E%3Cscript%3Ealert(/...</td>\n",
       "      <td>[form.search_text, dell, &gt;, &lt;script&gt;, alert(, ...</td>\n",
       "    </tr>\n",
       "    <tr>\n",
       "      <th>1</th>\n",
       "      <td>site=message&amp;msg=&lt;script&gt;alert(1)&lt;/script&gt;</td>\n",
       "      <td>[site=, message, msg=, &lt;script&gt;, alert(, 0, ),...</td>\n",
       "    </tr>\n",
       "    <tr>\n",
       "      <th>2</th>\n",
       "      <td>Itemid=%22onmouseover=alert%28document.cookie%...</td>\n",
       "      <td>[itemid=, onmouseover=, alert(, document.cooki...</td>\n",
       "    </tr>\n",
       "    <tr>\n",
       "      <th>3</th>\n",
       "      <td>uilang=en%22%3E%3Cscript%3Ealert%28document.co...</td>\n",
       "      <td>[uilang=, en, &gt;, &lt;script&gt;, alert(, document.co...</td>\n",
       "    </tr>\n",
       "    <tr>\n",
       "      <th>4</th>\n",
       "      <td>msg=&lt;ScRiPt&gt;alert('LastRider-CyberBellona')&lt;/S...</td>\n",
       "      <td>[msg=, &lt;script&gt;, alert(, lastrider, cyberbello...</td>\n",
       "    </tr>\n",
       "  </tbody>\n",
       "</table>\n",
       "</div>"
      ],
      "text/plain": [
       "                                                 raw  \\\n",
       "0  form.search_text=Dell%22%3E%3Cscript%3Ealert(/...   \n",
       "1         site=message&msg=<script>alert(1)</script>   \n",
       "2  Itemid=%22onmouseover=alert%28document.cookie%...   \n",
       "3  uilang=en%22%3E%3Cscript%3Ealert%28document.co...   \n",
       "4  msg=<ScRiPt>alert('LastRider-CyberBellona')</S...   \n",
       "\n",
       "                                              parsed  \n",
       "0  [form.search_text, dell, >, <script>, alert(, ...  \n",
       "1  [site=, message, msg=, <script>, alert(, 0, ),...  \n",
       "2  [itemid=, onmouseover=, alert(, document.cooki...  \n",
       "3  [uilang=, en, >, <script>, alert(, document.co...  \n",
       "4  [msg=, <script>, alert(, lastrider, cyberbello...  "
      ]
     },
     "execution_count": 9,
     "metadata": {},
     "output_type": "execute_result"
    }
   ],
   "source": [
    "mal_df.head()"
   ]
  },
  {
   "cell_type": "markdown",
   "metadata": {
    "collapsed": false
   },
   "source": [
    "## 3\\. Word Table \n",
    "\n",
    "Generate a new list (data frame) using the existing lists\\.\n",
    "\n",
    "DO NOT add this new list to the existing data frame `mal_df` or `normal_df`, for the new list is much longer\\.\n",
    "\n",
    "Text deduplication has to be done before all the words are sorted by quantity\\."
   ]
  },
  {
   "cell_type": "code",
   "execution_count": 10,
   "metadata": {
    "collapsed": false
   },
   "outputs": [
    {
     "name": "stdout",
     "output_type": "stream",
     "text": [
      "563861\n"
     ]
    },
    {
     "data": {
      "text/html": [
       "<div>\n",
       "<style scoped>\n",
       "    .dataframe tbody tr th:only-of-type {\n",
       "        vertical-align: middle;\n",
       "    }\n",
       "\n",
       "    .dataframe tbody tr th {\n",
       "        vertical-align: top;\n",
       "    }\n",
       "\n",
       "    .dataframe thead th {\n",
       "        text-align: right;\n",
       "    }\n",
       "</style>\n",
       "<table border=\"1\" class=\"dataframe\">\n",
       "  <thead>\n",
       "    <tr style=\"text-align: right;\">\n",
       "      <th></th>\n",
       "      <th>words</th>\n",
       "      <th>counts</th>\n",
       "    </tr>\n",
       "  </thead>\n",
       "  <tbody>\n",
       "    <tr>\n",
       "      <th>0</th>\n",
       "      <td>&gt;</td>\n",
       "      <td>78189</td>\n",
       "    </tr>\n",
       "    <tr>\n",
       "      <th>1</th>\n",
       "      <td>0</td>\n",
       "      <td>65413</td>\n",
       "    </tr>\n",
       "    <tr>\n",
       "      <th>2</th>\n",
       "      <td>)</td>\n",
       "      <td>35986</td>\n",
       "    </tr>\n",
       "    <tr>\n",
       "      <th>3</th>\n",
       "      <td>&lt;br</td>\n",
       "      <td>33642</td>\n",
       "    </tr>\n",
       "    <tr>\n",
       "      <th>4</th>\n",
       "      <td>alert(</td>\n",
       "      <td>29569</td>\n",
       "    </tr>\n",
       "    <tr>\n",
       "      <th>...</th>\n",
       "      <td>...</td>\n",
       "      <td>...</td>\n",
       "    </tr>\n",
       "    <tr>\n",
       "      <th>41328</th>\n",
       "      <td>llege</td>\n",
       "      <td>1</td>\n",
       "    </tr>\n",
       "    <tr>\n",
       "      <th>41329</th>\n",
       "      <td>r0n0z0n</td>\n",
       "      <td>1</td>\n",
       "    </tr>\n",
       "    <tr>\n",
       "      <th>41330</th>\n",
       "      <td>restrict_press=</td>\n",
       "      <td>1</td>\n",
       "    </tr>\n",
       "    <tr>\n",
       "      <th>41331</th>\n",
       "      <td>www.digicure.dk</td>\n",
       "      <td>1</td>\n",
       "    </tr>\n",
       "    <tr>\n",
       "      <th>41332</th>\n",
       "      <td>uqrul</td>\n",
       "      <td>1</td>\n",
       "    </tr>\n",
       "  </tbody>\n",
       "</table>\n",
       "<p>41333 rows × 2 columns</p>\n",
       "</div>"
      ],
      "text/plain": [
       "                 words  counts\n",
       "0                    >   78189\n",
       "1                    0   65413\n",
       "2                    )   35986\n",
       "3                  <br   33642\n",
       "4               alert(   29569\n",
       "...                ...     ...\n",
       "41328            llege       1\n",
       "41329          r0n0z0n       1\n",
       "41330  restrict_press=       1\n",
       "41331  www.digicure.dk       1\n",
       "41332            uqrul       1\n",
       "\n",
       "[41333 rows x 2 columns]"
      ]
     },
     "execution_count": 10,
     "metadata": {},
     "output_type": "execute_result"
    }
   ],
   "source": [
    "mal_word = list()\r\n",
    "mal['parsed'].apply(lambda x: [mal_word.append(i) for i in x])\r\n",
    "print(len(mal_word))\r\n",
    "tmp = pd.DataFrame(mal_word, columns=['words'])\r\n",
    "# add count \r\n",
    "mal_word_df = pd.DataFrame(tmp['words'].value_counts().to_frame().reset_index())\r\n",
    "mal_word_df.columns = ['words', 'counts']\r\n",
    "mal_word_df"
   ]
  },
  {
   "cell_type": "code",
   "execution_count": 11,
   "metadata": {
    "collapsed": false
   },
   "outputs": [
    {
     "data": {
      "text/html": [
       "<div>\n",
       "<style scoped>\n",
       "    .dataframe tbody tr th:only-of-type {\n",
       "        vertical-align: middle;\n",
       "    }\n",
       "\n",
       "    .dataframe tbody tr th {\n",
       "        vertical-align: top;\n",
       "    }\n",
       "\n",
       "    .dataframe thead th {\n",
       "        text-align: right;\n",
       "    }\n",
       "</style>\n",
       "<table border=\"1\" class=\"dataframe\">\n",
       "  <thead>\n",
       "    <tr style=\"text-align: right;\">\n",
       "      <th></th>\n",
       "      <th>words</th>\n",
       "      <th>counts</th>\n",
       "    </tr>\n",
       "  </thead>\n",
       "  <tbody>\n",
       "    <tr>\n",
       "      <th>0</th>\n",
       "      <td>&gt;</td>\n",
       "      <td>78189</td>\n",
       "    </tr>\n",
       "    <tr>\n",
       "      <th>1</th>\n",
       "      <td>0</td>\n",
       "      <td>65413</td>\n",
       "    </tr>\n",
       "    <tr>\n",
       "      <th>2</th>\n",
       "      <td>)</td>\n",
       "      <td>35986</td>\n",
       "    </tr>\n",
       "    <tr>\n",
       "      <th>3</th>\n",
       "      <td>&lt;br</td>\n",
       "      <td>33642</td>\n",
       "    </tr>\n",
       "    <tr>\n",
       "      <th>4</th>\n",
       "      <td>alert(</td>\n",
       "      <td>29569</td>\n",
       "    </tr>\n",
       "  </tbody>\n",
       "</table>\n",
       "</div>"
      ],
      "text/plain": [
       "    words  counts\n",
       "0       >   78189\n",
       "1       0   65413\n",
       "2       )   35986\n",
       "3     <br   33642\n",
       "4  alert(   29569"
      ]
     },
     "execution_count": 11,
     "metadata": {},
     "output_type": "execute_result"
    }
   ],
   "source": [
    "# select the first 300 words as word table\r\n",
    "# save as mal_word_table.csv\r\n",
    "wordtable_len = 300 \r\n",
    "mal_word_df = mal_word_df[:wordtable_len]\r\n",
    "mal_word_df.to_csv(os.path.join(work_path, 'mal_word_table.csv'))\r\n",
    "mal_word_df.head()"
   ]
  },
  {
   "cell_type": "markdown",
   "metadata": {
    "collapsed": false
   },
   "source": [
    "## 4\\. Word Vector\n",
    "\n",
    "Now it's time to go back to `mal_df`\\. We add a new column `words` to the data frame\\. \n",
    "\n",
    "If a word is not in the list generated previously (`mal_word_df`, or the mal\\_word\\_table\\.csv), it will be replaced with 'WORD'\\."
   ]
  },
  {
   "cell_type": "code",
   "execution_count": 12,
   "metadata": {
    "collapsed": false
   },
   "outputs": [
    {
     "data": {
      "text/html": [
       "<div>\n",
       "<style scoped>\n",
       "    .dataframe tbody tr th:only-of-type {\n",
       "        vertical-align: middle;\n",
       "    }\n",
       "\n",
       "    .dataframe tbody tr th {\n",
       "        vertical-align: top;\n",
       "    }\n",
       "\n",
       "    .dataframe thead th {\n",
       "        text-align: right;\n",
       "    }\n",
       "</style>\n",
       "<table border=\"1\" class=\"dataframe\">\n",
       "  <thead>\n",
       "    <tr style=\"text-align: right;\">\n",
       "      <th></th>\n",
       "      <th>raw</th>\n",
       "      <th>parsed</th>\n",
       "      <th>words</th>\n",
       "    </tr>\n",
       "  </thead>\n",
       "  <tbody>\n",
       "    <tr>\n",
       "      <th>0</th>\n",
       "      <td>form.search_text=Dell%22%3E%3Cscript%3Ealert(/...</td>\n",
       "      <td>[form.search_text, dell, &gt;, &lt;script&gt;, alert(, ...</td>\n",
       "      <td>[WORD, WORD, &gt;, &lt;script&gt;, alert(, xss, WORD, &lt;...</td>\n",
       "    </tr>\n",
       "    <tr>\n",
       "      <th>1</th>\n",
       "      <td>site=message&amp;msg=&lt;script&gt;alert(1)&lt;/script&gt;</td>\n",
       "      <td>[site=, message, msg=, &lt;script&gt;, alert(, 0, ),...</td>\n",
       "      <td>[site=, WORD, msg=, &lt;script&gt;, alert(, 0, ), &lt;/...</td>\n",
       "    </tr>\n",
       "    <tr>\n",
       "      <th>2</th>\n",
       "      <td>Itemid=%22onmouseover=alert%28document.cookie%...</td>\n",
       "      <td>[itemid=, onmouseover=, alert(, document.cooki...</td>\n",
       "      <td>[itemid=, onmouseover=, alert(, document.cooki...</td>\n",
       "    </tr>\n",
       "    <tr>\n",
       "      <th>3</th>\n",
       "      <td>uilang=en%22%3E%3Cscript%3Ealert%28document.co...</td>\n",
       "      <td>[uilang=, en, &gt;, &lt;script&gt;, alert(, document.co...</td>\n",
       "      <td>[WORD, en, &gt;, &lt;script&gt;, alert(, document.cooki...</td>\n",
       "    </tr>\n",
       "    <tr>\n",
       "      <th>4</th>\n",
       "      <td>msg=&lt;ScRiPt&gt;alert('LastRider-CyberBellona')&lt;/S...</td>\n",
       "      <td>[msg=, &lt;script&gt;, alert(, lastrider, cyberbello...</td>\n",
       "      <td>[msg=, &lt;script&gt;, alert(, WORD, WORD, ), &lt;/scri...</td>\n",
       "    </tr>\n",
       "  </tbody>\n",
       "</table>\n",
       "</div>"
      ],
      "text/plain": [
       "                                                 raw  \\\n",
       "0  form.search_text=Dell%22%3E%3Cscript%3Ealert(/...   \n",
       "1         site=message&msg=<script>alert(1)</script>   \n",
       "2  Itemid=%22onmouseover=alert%28document.cookie%...   \n",
       "3  uilang=en%22%3E%3Cscript%3Ealert%28document.co...   \n",
       "4  msg=<ScRiPt>alert('LastRider-CyberBellona')</S...   \n",
       "\n",
       "                                              parsed  \\\n",
       "0  [form.search_text, dell, >, <script>, alert(, ...   \n",
       "1  [site=, message, msg=, <script>, alert(, 0, ),...   \n",
       "2  [itemid=, onmouseover=, alert(, document.cooki...   \n",
       "3  [uilang=, en, >, <script>, alert(, document.co...   \n",
       "4  [msg=, <script>, alert(, lastrider, cyberbello...   \n",
       "\n",
       "                                               words  \n",
       "0  [WORD, WORD, >, <script>, alert(, xss, WORD, <...  \n",
       "1  [site=, WORD, msg=, <script>, alert(, 0, ), </...  \n",
       "2  [itemid=, onmouseover=, alert(, document.cooki...  \n",
       "3  [WORD, en, >, <script>, alert(, document.cooki...  \n",
       "4  [msg=, <script>, alert(, WORD, WORD, ), </scri...  "
      ]
     },
     "execution_count": 12,
     "metadata": {},
     "output_type": "execute_result"
    }
   ],
   "source": [
    "mal_word_list = mal_word_df['words'].tolist()\r\n",
    "def wv_filter(lst):\r\n",
    "    new_lst = list()\r\n",
    "    for item in lst:\r\n",
    "        # print(item)\r\n",
    "        if item not in mal_word_list:\r\n",
    "            new_lst.append('WORD')\r\n",
    "        else:\r\n",
    "            new_lst.append(item)\r\n",
    "    return new_lst\r\n",
    "\r\n",
    "mal_df['words'] = mal_df[\"parsed\"].apply(wv_filter)\r\n",
    "mal_df.head()"
   ]
  },
  {
   "cell_type": "code",
   "execution_count": 13,
   "metadata": {
    "collapsed": false
   },
   "outputs": [
    {
     "data": {
      "text/html": [
       "<div>\n",
       "<style scoped>\n",
       "    .dataframe tbody tr th:only-of-type {\n",
       "        vertical-align: middle;\n",
       "    }\n",
       "\n",
       "    .dataframe tbody tr th {\n",
       "        vertical-align: top;\n",
       "    }\n",
       "\n",
       "    .dataframe thead th {\n",
       "        text-align: right;\n",
       "    }\n",
       "</style>\n",
       "<table border=\"1\" class=\"dataframe\">\n",
       "  <thead>\n",
       "    <tr style=\"text-align: right;\">\n",
       "      <th></th>\n",
       "      <th>raw</th>\n",
       "      <th>parsed</th>\n",
       "      <th>words</th>\n",
       "    </tr>\n",
       "  </thead>\n",
       "  <tbody>\n",
       "    <tr>\n",
       "      <th>0</th>\n",
       "      <td>sid=&amp;amp;ring=hentff98&amp;amp;id=&amp;amp;list</td>\n",
       "      <td>[sid=, amp, ring=, hentff0, amp, id=, amp, list]</td>\n",
       "      <td>[sid=, WORD, WORD, WORD, WORD, id=, WORD, WORD]</td>\n",
       "    </tr>\n",
       "    <tr>\n",
       "      <th>1</th>\n",
       "      <td>ring=yaoi28</td>\n",
       "      <td>[ring=, yaoi0]</td>\n",
       "      <td>[WORD, WORD]</td>\n",
       "    </tr>\n",
       "    <tr>\n",
       "      <th>2</th>\n",
       "      <td>mode=navigation&amp;amp;categoryid=1141</td>\n",
       "      <td>[mode=, navigation, amp, categoryid=, 0]</td>\n",
       "      <td>[mode=, WORD, WORD, WORD, 0]</td>\n",
       "    </tr>\n",
       "    <tr>\n",
       "      <th>3</th>\n",
       "      <td>lang=en</td>\n",
       "      <td>[lang=, en]</td>\n",
       "      <td>[lang=, en]</td>\n",
       "    </tr>\n",
       "    <tr>\n",
       "      <th>4</th>\n",
       "      <td>ring=bettie</td>\n",
       "      <td>[ring=, bettie]</td>\n",
       "      <td>[WORD, WORD]</td>\n",
       "    </tr>\n",
       "  </tbody>\n",
       "</table>\n",
       "</div>"
      ],
      "text/plain": [
       "                                       raw  \\\n",
       "0  sid=&amp;ring=hentff98&amp;id=&amp;list   \n",
       "1                              ring=yaoi28   \n",
       "2      mode=navigation&amp;categoryid=1141   \n",
       "3                                  lang=en   \n",
       "4                              ring=bettie   \n",
       "\n",
       "                                             parsed  \\\n",
       "0  [sid=, amp, ring=, hentff0, amp, id=, amp, list]   \n",
       "1                                    [ring=, yaoi0]   \n",
       "2          [mode=, navigation, amp, categoryid=, 0]   \n",
       "3                                       [lang=, en]   \n",
       "4                                   [ring=, bettie]   \n",
       "\n",
       "                                             words  \n",
       "0  [sid=, WORD, WORD, WORD, WORD, id=, WORD, WORD]  \n",
       "1                                     [WORD, WORD]  \n",
       "2                     [mode=, WORD, WORD, WORD, 0]  \n",
       "3                                      [lang=, en]  \n",
       "4                                     [WORD, WORD]  "
      ]
     },
     "execution_count": 13,
     "metadata": {},
     "output_type": "execute_result"
    }
   ],
   "source": [
    "# the same for normal_df\r\n",
    "normal_df[\"words\"] = normal_df['parsed'].apply(wv_filter)\r\n",
    "normal_df.head()"
   ]
  },
  {
   "cell_type": "markdown",
   "metadata": {
    "collapsed": false
   },
   "source": [
    "### 4\\.1 word2vec\n"
   ]
  },
  {
   "cell_type": "code",
   "execution_count": 14,
   "metadata": {
    "collapsed": false
   },
   "outputs": [],
   "source": [
    "from gensim.models.word2vec import Word2Vec \r\n",
    "import numpy"
   ]
  },
  {
   "cell_type": "code",
   "execution_count": 15,
   "metadata": {
    "collapsed": false
   },
   "outputs": [
    {
     "data": {
      "text/plain": [
       "0    [WORD, WORD, >, <script>, alert(, xss, WORD, <...\n",
       "1    [site=, WORD, msg=, <script>, alert(, 0, ), </...\n",
       "2    [itemid=, onmouseover=, alert(, document.cooki...\n",
       "3    [WORD, en, >, <script>, alert(, document.cooki...\n",
       "4    [msg=, <script>, alert(, WORD, WORD, ), </scri...\n",
       "5    [q=, >, <script>, alert(, xss, by, atm0n0r, ),...\n",
       "6    [q=, >, <script>, alert(, xss, by, atm0n0r, ),...\n",
       "7    [WORD, WORD, WORD, <script>, alert(, \"xss\", ),...\n",
       "8    [d=, onmouseover=, alert(, WORD, <br, >, WORD,...\n",
       "9    [WORD, >, >, <script>, a, <br, >, lert(, WORD,...\n",
       "Name: words, dtype: object"
      ]
     },
     "execution_count": 15,
     "metadata": {},
     "output_type": "execute_result"
    }
   ],
   "source": [
    "# embedding_size: dimension of feature vector\r\n",
    "embedding_size = 128 \r\n",
    "#skip_window: indicates the maximum distance between the current word and the predicted word in a sentence\r\n",
    "skip_window = 5 \r\n",
    "# num_sampled: sets the number of noise words (if > 0)\r\n",
    "num_sampled = 64 \r\n",
    "# iteration time \r\n",
    "num_iter = 100 \r\n",
    "data_set = mal_df['words']\r\n",
    "data_set[:10]"
   ]
  },
  {
   "cell_type": "code",
   "execution_count": 16,
   "metadata": {
    "collapsed": false
   },
   "outputs": [],
   "source": [
    "# do pay attention to parameter names\r\n",
    "model = Word2Vec(data_set, vector_size=embedding_size, window=skip_window, negative=num_sampled, epochs=num_iter)"
   ]
  },
  {
   "cell_type": "markdown",
   "metadata": {
    "collapsed": false
   },
   "source": [
    "### 4\\.2 Save/Load Model"
   ]
  },
  {
   "cell_type": "code",
   "execution_count": 29,
   "metadata": {
    "collapsed": false
   },
   "outputs": [],
   "source": [
    "model.save(os.path.join(work_path, 'model_word2vec_auto'))"
   ]
  },
  {
   "cell_type": "code",
   "execution_count": 30,
   "metadata": {
    "collapsed": false
   },
   "outputs": [],
   "source": [
    "model_new = Word2Vec.load(os.path.join(work_path, 'model_word2vec_auto'))"
   ]
  },
  {
   "cell_type": "markdown",
   "metadata": {
    "collapsed": false
   },
   "source": [
    "### 4\\.3 Test"
   ]
  },
  {
   "cell_type": "code",
   "execution_count": 31,
   "metadata": {
    "collapsed": false
   },
   "outputs": [
    {
     "data": {
      "text/plain": [
       "[('0fscript', 0.45406660437583923),\n",
       " ('script', 0.37878724932670593),\n",
       " ('scrip', 0.3639599084854126),\n",
       " ('sc', 0.35605916380882263),\n",
       " ('scri', 0.3468379080295563)]"
      ]
     },
     "execution_count": 31,
     "metadata": {},
     "output_type": "execute_result"
    }
   ],
   "source": [
    "# find the most similar words based on keywords\r\n",
    "embeddings = model_new.wv\r\n",
    "embeddings.similar_by_word(\"</script>\", 5)"
   ]
  },
  {
   "cell_type": "code",
   "execution_count": 32,
   "metadata": {
    "collapsed": false
   },
   "outputs": [
    {
     "data": {
      "text/plain": [
       "[(')', 0.5191235542297363),\n",
       " ('alert', 0.5172247290611267),\n",
       " ('0', 0.3836981952190399),\n",
       " ('lert(', 0.2988574802875519),\n",
       " ('<br', 0.2968520224094391)]"
      ]
     },
     "execution_count": 32,
     "metadata": {},
     "output_type": "execute_result"
    }
   ],
   "source": [
    "embeddings.similar_by_word(\"alert(\", 5)"
   ]
  },
  {
   "cell_type": "markdown",
   "metadata": {
    "collapsed": false
   },
   "source": [
    "## 5\\. SVM\n"
   ]
  },
  {
   "cell_type": "code",
   "execution_count": 18,
   "metadata": {
    "collapsed": false
   },
   "outputs": [
    {
     "name": "stdout",
     "output_type": "stream",
     "text": [
      "training data Accuracy:0.980\n",
      "testing data Accuracy:0.979\n",
      "training data Recall: 0.964\n",
      "testing data Recall: 0.963\n"
     ]
    }
   ],
   "source": [
    "import numpy as np\r\n",
    "from sklearn import model_selection\r\n",
    "from sklearn.svm import SVC\r\n",
    "\r\n",
    "\r\n",
    "tags = list()\r\n",
    "y = list()\r\n",
    "x = list()\r\n",
    "# xssed.csv\r\n",
    "for item in mal_df['raw'].tolist():\r\n",
    "    tags.append(item.strip())\r\n",
    "    y.append(1)\r\n",
    "# dmzo_nomal.csv \r\n",
    "for item in normal_df['raw'].tolist():\r\n",
    "    tags.append(item.strip())\r\n",
    "    y.append(0)\r\n",
    "\r\n",
    "def count_str(line, str):\r\n",
    "    return line.lower().count(str)\r\n",
    "\r\n",
    "\r\n",
    "def get_feats(line):\r\n",
    "    return [\r\n",
    "        count_str(line, 'script'),\r\n",
    "        count_str(line, 'java'),\r\n",
    "        count_str(line, 'iframe'),\r\n",
    "        count_str(line, '<'),\r\n",
    "        count_str(line, '>'),\r\n",
    "        count_str(line, '\\\"'),\r\n",
    "        count_str(line, '\\''),\r\n",
    "        count_str(line, '%'),\r\n",
    "        count_str(line, '('),\r\n",
    "        count_str(line, ')'),\r\n",
    "    ]\r\n",
    "\r\n",
    "for tag in tags:\r\n",
    "    x.append(get_feats(tag))\r\n",
    "\r\n",
    "x = np.array(x)\r\n",
    "y = np.array(y)\r\n",
    "\r\n",
    "# print(x.size)\r\n",
    "\r\n",
    "x_train, x_test, y_train, y_test = model_selection.train_test_split(\r\n",
    "    x, y, random_state=0, test_size=0.3)\r\n",
    "\r\n",
    "\r\n",
    "# SVM classifier\r\n",
    "clf = SVC(C=0.5, kernel='linear')\r\n",
    "\r\n",
    "# train\r\n",
    "clf.fit(x_train, y_train)\r\n",
    "\r\n",
    "\r\n",
    "# accuracy\r\n",
    "def show_accuracy(a, b, tip):\r\n",
    "    acc = a == b\r\n",
    "    print(\"%s Accuracy:%.3f\" % (tip, np.mean(acc)))\r\n",
    "\r\n",
    "\r\n",
    "# print accuracy\r\n",
    "show_accuracy(clf.predict(x_train), y_train, 'training data')\r\n",
    "show_accuracy(clf.predict(x_test), y_test, 'testing data')\r\n",
    "\r\n",
    "\r\n",
    "# callback (TP/P, TP/(TP+FN))\r\n",
    "def show_recall(y, y_hat, tip):\r\n",
    "    cnt = 0\r\n",
    "    length = len(y)\r\n",
    "    for i in range(length):\r\n",
    "        if y[i] == 1 and y_hat[i] == 1:\r\n",
    "            cnt += 1\r\n",
    "    print('%s Recall: %.3f' % (tip, cnt/np.sum(y)))\r\n",
    "\r\n",
    "\r\n",
    "show_recall(y_train, clf.predict(x_train), 'training data')\r\n",
    "show_recall(y_test, clf.predict(x_test), 'testing data')\r\n",
    "\r\n",
    "\r\n",
    "def predict(tag):\r\n",
    "    x = []\r\n",
    "    x.append(get_feats(tag))\r\n",
    "    return clf.predict(x)[0]\r\n",
    "\r\n",
    "\r\n",
    "def result(string):\r\n",
    "    tag = string \r\n",
    "    y = predict(tag.strip())\r\n",
    "    if y == 1:\r\n",
    "        print(\"XSS\")\r\n",
    "    else:\r\n",
    "        print(\"no-mal\")"
   ]
  },
  {
   "cell_type": "code",
   "execution_count": 20,
   "metadata": {
    "collapsed": false
   },
   "outputs": [
    {
     "name": "stdout",
     "output_type": "stream",
     "text": [
      "XSS\n",
      "XSS\n",
      "XSS\n",
      "XSS\n",
      "no-mal\n",
      "no-mal\n",
      "no-mal\n",
      "no-mal\n"
     ]
    }
   ],
   "source": [
    "result('form.search_text=Dell%22%3E%3Cscript%3Ealert(/xss-Bulgari<br/>a/.source)%3C/script%3E&form.hardware_category=LAPTOP')\r\n",
    "result('\"c=26zzzzzzzzzz\"\"><script>alert(1)</script>\"')\r\n",
    "result('search_query=%3CSCRIPT%3Ealert%28/XSS%20by%2003<br/>storic/%29%3C/SCRIPT%3E')\r\n",
    "result('id=224%22%3E%3Cscript%3Ealert%28document.cookie%29%3C/script%3E')\r\n",
    "result('ring=slashrecs&amp;id=26&amp;hub')\r\n",
    "result(\"ring=thenewstartreksl\")\r\n",
    "result('ring=communiqueerotiq&amp;id=11&amp;hub')\r\n",
    "result(\"x=0\")"
   ]
  }
 ],
 "metadata": {
  "kernelspec": {
   "display_name": "Python 3",
   "language": "python",
   "name": "py35-paddle1.2.0"
  },
  "language_info": {
   "codemirror_mode": {
    "name": "ipython",
    "version": 3
   },
   "file_extension": ".py",
   "mimetype": "text/x-python",
   "name": "python",
   "nbconvert_exporter": "python",
   "pygments_lexer": "ipython3",
   "version": "3.7.4"
  }
 },
 "nbformat": 4,
 "nbformat_minor": 1
}
