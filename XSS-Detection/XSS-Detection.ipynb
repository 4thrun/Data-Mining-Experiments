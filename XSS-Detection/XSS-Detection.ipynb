{
 "cells": [
  {
   "cell_type": "markdown",
   "metadata": {},
   "source": [
    "# XSS\\-Detection \n",
    "\n",
    "Steps:\n",
    "1. word2vec\n",
    "2. some data processing \n",
    "3. MLP\n",
    "4. More can be done (LSTM or something)"
   ]
  },
  {
   "cell_type": "code",
   "execution_count": 1,
   "metadata": {},
   "outputs": [
    {
     "name": "stdout",
     "output_type": "stream",
     "text": [
      "Looking in indexes: https://pypi.tuna.tsinghua.edu.cn/simple\n",
      "Requirement already satisfied: gensim in d:\\files\\projects\\pycharmprojects\\data-mining-experiments\\xss-detection\\venv\\lib\\site-packages (4.1.2)\n",
      "Requirement already satisfied: Cython==0.29.23 in d:\\files\\projects\\pycharmprojects\\data-mining-experiments\\xss-detection\\venv\\lib\\site-packages (from gensim) (0.29.23)\n",
      "Requirement already satisfied: numpy>=1.17.0 in d:\\files\\projects\\pycharmprojects\\data-mining-experiments\\xss-detection\\venv\\lib\\site-packages (from gensim) (1.19.5)\n",
      "Requirement already satisfied: smart-open>=1.8.1 in d:\\files\\projects\\pycharmprojects\\data-mining-experiments\\xss-detection\\venv\\lib\\site-packages (from gensim) (5.2.1)\n",
      "Requirement already satisfied: scipy>=0.18.1 in d:\\files\\projects\\pycharmprojects\\data-mining-experiments\\xss-detection\\venv\\lib\\site-packages (from gensim) (1.7.1)\n"
     ]
    },
    {
     "name": "stderr",
     "output_type": "stream",
     "text": [
      "WARNING: You are using pip version 21.2.3; however, version 21.3 is available.\n",
      "You should consider upgrading via the 'D:\\Files\\Projects\\PycharmProjects\\Data-Mining-Experiments\\XSS-Detection\\venv\\Scripts\\python.exe -m pip install --upgrade pip' command.\n"
     ]
    },
    {
     "name": "stdout",
     "output_type": "stream",
     "text": [
      "Looking in indexes: https://pypi.tuna.tsinghua.edu.cn/simple\n",
      "Requirement already satisfied: tensorflow in d:\\files\\projects\\pycharmprojects\\data-mining-experiments\\xss-detection\\venv\\lib\\site-packages (2.6.0)\n",
      "Requirement already satisfied: six~=1.15.0 in d:\\files\\projects\\pycharmprojects\\data-mining-experiments\\xss-detection\\venv\\lib\\site-packages (from tensorflow) (1.15.0)\n",
      "Requirement already satisfied: absl-py~=0.10 in d:\\files\\projects\\pycharmprojects\\data-mining-experiments\\xss-detection\\venv\\lib\\site-packages (from tensorflow) (0.14.1)\n",
      "Requirement already satisfied: clang~=5.0 in d:\\files\\projects\\pycharmprojects\\data-mining-experiments\\xss-detection\\venv\\lib\\site-packages (from tensorflow) (5.0)\n",
      "Requirement already satisfied: opt-einsum~=3.3.0 in d:\\files\\projects\\pycharmprojects\\data-mining-experiments\\xss-detection\\venv\\lib\\site-packages (from tensorflow) (3.3.0)\n",
      "Requirement already satisfied: wrapt~=1.12.1 in d:\\files\\projects\\pycharmprojects\\data-mining-experiments\\xss-detection\\venv\\lib\\site-packages (from tensorflow) (1.12.1)\n",
      "Requirement already satisfied: typing-extensions~=3.7.4 in d:\\files\\projects\\pycharmprojects\\data-mining-experiments\\xss-detection\\venv\\lib\\site-packages (from tensorflow) (3.7.4.3)\n",
      "Requirement already satisfied: tensorflow-estimator~=2.6 in d:\\files\\projects\\pycharmprojects\\data-mining-experiments\\xss-detection\\venv\\lib\\site-packages (from tensorflow) (2.6.0)\n",
      "Requirement already satisfied: protobuf>=3.9.2 in d:\\files\\projects\\pycharmprojects\\data-mining-experiments\\xss-detection\\venv\\lib\\site-packages (from tensorflow) (3.18.1)\n",
      "Requirement already satisfied: h5py~=3.1.0 in d:\\files\\projects\\pycharmprojects\\data-mining-experiments\\xss-detection\\venv\\lib\\site-packages (from tensorflow) (3.1.0)\n",
      "Requirement already satisfied: termcolor~=1.1.0 in d:\\files\\projects\\pycharmprojects\\data-mining-experiments\\xss-detection\\venv\\lib\\site-packages (from tensorflow) (1.1.0)\n",
      "Requirement already satisfied: google-pasta~=0.2 in d:\\files\\projects\\pycharmprojects\\data-mining-experiments\\xss-detection\\venv\\lib\\site-packages (from tensorflow) (0.2.0)\n",
      "Requirement already satisfied: gast==0.4.0 in d:\\files\\projects\\pycharmprojects\\data-mining-experiments\\xss-detection\\venv\\lib\\site-packages (from tensorflow) (0.4.0)\n",
      "Requirement already satisfied: keras~=2.6 in d:\\files\\projects\\pycharmprojects\\data-mining-experiments\\xss-detection\\venv\\lib\\site-packages (from tensorflow) (2.6.0)\n",
      "Requirement already satisfied: numpy~=1.19.2 in d:\\files\\projects\\pycharmprojects\\data-mining-experiments\\xss-detection\\venv\\lib\\site-packages (from tensorflow) (1.19.5)\n",
      "Requirement already satisfied: flatbuffers~=1.12.0 in d:\\files\\projects\\pycharmprojects\\data-mining-experiments\\xss-detection\\venv\\lib\\site-packages (from tensorflow) (1.12)\n",
      "Requirement already satisfied: tensorboard~=2.6 in d:\\files\\projects\\pycharmprojects\\data-mining-experiments\\xss-detection\\venv\\lib\\site-packages (from tensorflow) (2.6.0)\n",
      "Requirement already satisfied: keras-preprocessing~=1.1.2 in d:\\files\\projects\\pycharmprojects\\data-mining-experiments\\xss-detection\\venv\\lib\\site-packages (from tensorflow) (1.1.2)\n",
      "Requirement already satisfied: grpcio<2.0,>=1.37.0 in d:\\files\\projects\\pycharmprojects\\data-mining-experiments\\xss-detection\\venv\\lib\\site-packages (from tensorflow) (1.41.0)\n",
      "Requirement already satisfied: astunparse~=1.6.3 in d:\\files\\projects\\pycharmprojects\\data-mining-experiments\\xss-detection\\venv\\lib\\site-packages (from tensorflow) (1.6.3)\n",
      "Requirement already satisfied: wheel~=0.35 in d:\\files\\projects\\pycharmprojects\\data-mining-experiments\\xss-detection\\venv\\lib\\site-packages (from tensorflow) (0.37.0)\n",
      "Requirement already satisfied: google-auth-oauthlib<0.5,>=0.4.1 in d:\\files\\projects\\pycharmprojects\\data-mining-experiments\\xss-detection\\venv\\lib\\site-packages (from tensorboard~=2.6->tensorflow) (0.4.6)\n",
      "Requirement already satisfied: markdown>=2.6.8 in d:\\files\\projects\\pycharmprojects\\data-mining-experiments\\xss-detection\\venv\\lib\\site-packages (from tensorboard~=2.6->tensorflow) (3.3.4)\n",
      "Requirement already satisfied: requests<3,>=2.21.0 in d:\\files\\projects\\pycharmprojects\\data-mining-experiments\\xss-detection\\venv\\lib\\site-packages (from tensorboard~=2.6->tensorflow) (2.26.0)\n",
      "Requirement already satisfied: google-auth<2,>=1.6.3 in d:\\files\\projects\\pycharmprojects\\data-mining-experiments\\xss-detection\\venv\\lib\\site-packages (from tensorboard~=2.6->tensorflow) (1.35.0)\n",
      "Requirement already satisfied: werkzeug>=0.11.15 in d:\\files\\projects\\pycharmprojects\\data-mining-experiments\\xss-detection\\venv\\lib\\site-packages (from tensorboard~=2.6->tensorflow) (2.0.2)\n",
      "Requirement already satisfied: tensorboard-plugin-wit>=1.6.0 in d:\\files\\projects\\pycharmprojects\\data-mining-experiments\\xss-detection\\venv\\lib\\site-packages (from tensorboard~=2.6->tensorflow) (1.8.0)\n",
      "Requirement already satisfied: tensorboard-data-server<0.7.0,>=0.6.0 in d:\\files\\projects\\pycharmprojects\\data-mining-experiments\\xss-detection\\venv\\lib\\site-packages (from tensorboard~=2.6->tensorflow) (0.6.1)\n",
      "Requirement already satisfied: setuptools>=41.0.0 in d:\\files\\projects\\pycharmprojects\\data-mining-experiments\\xss-detection\\venv\\lib\\site-packages (from tensorboard~=2.6->tensorflow) (58.2.0)\n",
      "Requirement already satisfied: pyasn1-modules>=0.2.1 in d:\\files\\projects\\pycharmprojects\\data-mining-experiments\\xss-detection\\venv\\lib\\site-packages (from google-auth<2,>=1.6.3->tensorboard~=2.6->tensorflow) (0.2.8)\n",
      "Requirement already satisfied: rsa<5,>=3.1.4 in d:\\files\\projects\\pycharmprojects\\data-mining-experiments\\xss-detection\\venv\\lib\\site-packages (from google-auth<2,>=1.6.3->tensorboard~=2.6->tensorflow) (4.7.2)\n",
      "Requirement already satisfied: cachetools<5.0,>=2.0.0 in d:\\files\\projects\\pycharmprojects\\data-mining-experiments\\xss-detection\\venv\\lib\\site-packages (from google-auth<2,>=1.6.3->tensorboard~=2.6->tensorflow) (4.2.4)\n",
      "Requirement already satisfied: requests-oauthlib>=0.7.0 in d:\\files\\projects\\pycharmprojects\\data-mining-experiments\\xss-detection\\venv\\lib\\site-packages (from google-auth-oauthlib<0.5,>=0.4.1->tensorboard~=2.6->tensorflow) (1.3.0)\n",
      "Requirement already satisfied: pyasn1<0.5.0,>=0.4.6 in d:\\files\\projects\\pycharmprojects\\data-mining-experiments\\xss-detection\\venv\\lib\\site-packages (from pyasn1-modules>=0.2.1->google-auth<2,>=1.6.3->tensorboard~=2.6->tensorflow) (0.4.8)\n",
      "Requirement already satisfied: certifi>=2017.4.17 in d:\\files\\projects\\pycharmprojects\\data-mining-experiments\\xss-detection\\venv\\lib\\site-packages (from requests<3,>=2.21.0->tensorboard~=2.6->tensorflow) (2021.10.8)\n",
      "Requirement already satisfied: idna<4,>=2.5 in d:\\files\\projects\\pycharmprojects\\data-mining-experiments\\xss-detection\\venv\\lib\\site-packages (from requests<3,>=2.21.0->tensorboard~=2.6->tensorflow) (3.2)\n",
      "Requirement already satisfied: charset-normalizer~=2.0.0 in d:\\files\\projects\\pycharmprojects\\data-mining-experiments\\xss-detection\\venv\\lib\\site-packages (from requests<3,>=2.21.0->tensorboard~=2.6->tensorflow) (2.0.7)\n",
      "Requirement already satisfied: urllib3<1.27,>=1.21.1 in d:\\files\\projects\\pycharmprojects\\data-mining-experiments\\xss-detection\\venv\\lib\\site-packages (from requests<3,>=2.21.0->tensorboard~=2.6->tensorflow) (1.26.7)\n",
      "Requirement already satisfied: oauthlib>=3.0.0 in d:\\files\\projects\\pycharmprojects\\data-mining-experiments\\xss-detection\\venv\\lib\\site-packages (from requests-oauthlib>=0.7.0->google-auth-oauthlib<0.5,>=0.4.1->tensorboard~=2.6->tensorflow) (3.1.1)\n"
     ]
    },
    {
     "name": "stderr",
     "output_type": "stream",
     "text": [
      "WARNING: You are using pip version 21.2.3; however, version 21.3 is available.\n",
      "You should consider upgrading via the 'D:\\Files\\Projects\\PycharmProjects\\Data-Mining-Experiments\\XSS-Detection\\venv\\Scripts\\python.exe -m pip install --upgrade pip' command.\n"
     ]
    },
    {
     "name": "stdout",
     "output_type": "stream",
     "text": [
      "Looking in indexes: https://pypi.tuna.tsinghua.edu.cn/simple\n",
      "Requirement already satisfied: keras in d:\\files\\projects\\pycharmprojects\\data-mining-experiments\\xss-detection\\venv\\lib\\site-packages (2.6.0)\n"
     ]
    },
    {
     "name": "stderr",
     "output_type": "stream",
     "text": [
      "WARNING: You are using pip version 21.2.3; however, version 21.3 is available.\n",
      "You should consider upgrading via the 'D:\\Files\\Projects\\PycharmProjects\\Data-Mining-Experiments\\XSS-Detection\\venv\\Scripts\\python.exe -m pip install --upgrade pip' command.\n"
     ]
    }
   ],
   "source": [
    "!pip install gensim\n",
    "# CPU version \n",
    "!pip install tensorflow\n",
    "!pip install keras"
   ]
  },
  {
   "cell_type": "markdown",
   "metadata": {},
   "source": [
    "## 1\\. word2vec \n",
    "\n",
    "Segmentation has to be done before creating word vectors\\.\n",
    "\n",
    "Principles are given below:\n",
    "- `\"xss\"` or `'xss'`\n",
    "- URLs including `HTTP` or `HTTPS`\n",
    "- labels (like `<script>`)\n",
    "- beginning (like `<h1`)\n",
    "- params (like `topic=`)\n",
    "- functions (like `alert(`)\n",
    "- strings consisting of digits and characters (need to be normalized)"
   ]
  },
  {
   "cell_type": "code",
   "execution_count": 2,
   "metadata": {},
   "outputs": [],
   "source": [
    "import csv, pickle, time, os\n",
    "from collections import Counter\n",
    "import matplotlib.pyplot as plt\n",
    "from sklearn.manifold import TSNE\n",
    "from gensim.models.word2vec import Word2Vec\n",
    "import nltk\n",
    "import re\n",
    "from urllib.parse import unquote"
   ]
  },
  {
   "cell_type": "code",
   "execution_count": 3,
   "metadata": {},
   "outputs": [],
   "source": [
    "# utils \n",
    "def GeneSeg(payload):\n",
    "    # normalization \n",
    "    # digits -> '0'\n",
    "    payload=payload.lower()\n",
    "    payload=unquote(unquote(payload))\n",
    "    payload,num=re.subn(r'\\d+',\"0\",payload)\n",
    "    # URLs -> 'http://u'\n",
    "    payload,num=re.subn(r'(http|https)://[a-zA-Z0-9\\.@&/#!#\\?]+', \"http://u\", payload)\n",
    "    # segmentation \n",
    "    r = '''\n",
    "        (?x)[\\w\\.]+?\\(\n",
    "        |\\)\n",
    "        |\"\\w+?\"\n",
    "        |'\\w+?'\n",
    "        |http://\\w\n",
    "        |</\\w+>\n",
    "        |<\\w+>\n",
    "        |<\\w+\n",
    "        |\\w+=\n",
    "        |>\n",
    "        |[\\w\\.]+\n",
    "    '''\n",
    "    return nltk.regexp_tokenize(payload, r)"
   ]
  },
  {
   "cell_type": "code",
   "execution_count": 4,
   "metadata": {},
   "outputs": [],
   "source": [
    "learning_rate = 0.1\n",
    "vocabulary_size = 3000\n",
    "batch_size = 128\n",
    "embedding_size = 128\n",
    "num_skips = 4\n",
    "skip_window = 5\n",
    "num_sampled = 64\n",
    "num_iter = 5\n",
    "plot_only = 100\n",
    "\n",
    "log_dir = \"./word2vec/word2vec.log\"\n",
    "plt_dir = \"./word2vec/word2vec.png\"\n",
    "vec_dir = \"./word2vec/word2vec.pickle\"\n",
    "data_dir = \"./data/\""
   ]
  },
  {
   "cell_type": "code",
   "execution_count": 6,
   "metadata": {},
   "outputs": [
    {
     "name": "stderr",
     "output_type": "stream",
     "text": [
      "d:\\Files\\Projects\\PycharmProjects\\Data-Mining-Experiments\\XSS-Detection\\venv\\lib\\site-packages\\sklearn\\manifold\\_t_sne.py:982: FutureWarning: The PCA initialization in TSNE will change to have the standard deviation of PC1 equal to 1e-4 in 1.2. This will ensure better convergence.\n",
      "  warnings.warn(\n"
     ]
    },
    {
     "data": {
      "image/png": "[encoded data removed]",
      "text/plain": [
       "<Figure size 720x720 with 1 Axes>"
      ]
     },
     "metadata": {
      "needs_background": "light"
     },
     "output_type": "display_data"
    },
    {
     "name": "stdout",
     "output_type": "stream",
     "text": [
      "Job completed in: 12.241477489471436\n",
      "Save word vectors to: ./word2vec/word2vec.pickle\n"
     ]
    },
    {
     "data": {
      "text/plain": [
       "<Figure size 432x288 with 0 Axes>"
      ]
     },
     "metadata": {},
     "output_type": "display_data"
    }
   ],
   "source": [
    "start=time.time()\n",
    "words=list()\n",
    "datas=list()\n",
    "\n",
    "\n",
    "with open(os.path.join(data_dir, \"xssed.csv\"), \"r\", encoding=\"utf-8\") as f:\n",
    "    reader = csv.DictReader(f,fieldnames=[\"payload\"])\n",
    "    for row in reader:\n",
    "        payload = row[\"payload\"]\n",
    "        word = GeneSeg(payload)\n",
    "        datas.append(word)\n",
    "        words += word\n",
    "f.close()\n",
    "\n",
    "\n",
    "# build dataset \n",
    "def build_dataset(datas,words):\n",
    "    count = [[\"UNK\",-1]]\n",
    "    counter = Counter(words)\n",
    "    count.extend(counter.most_common(vocabulary_size-1))\n",
    "    vocabulary = [c[0] for c in count]\n",
    "    data_set = []\n",
    "    for data in datas:\n",
    "        d_set = []\n",
    "        for word in data:\n",
    "            if word in vocabulary:\n",
    "                d_set.append(word)\n",
    "            else:\n",
    "                d_set.append(\"UNK\")\n",
    "                count[0][1] += 1\n",
    "        data_set.append(d_set)\n",
    "    return data_set\n",
    "data_set = build_dataset(datas,words)\n",
    "\n",
    "# do pay attention to params \n",
    "model = Word2Vec(data_set, vector_size=embedding_size, window=skip_window, negative=num_sampled, epochs=num_iter)\n",
    "embeddings = model.wv\n",
    "\n",
    "\n",
    "def plot_with_labels(low_dim_embs, labels, filename=plt_dir):\n",
    "    plt.figure(figsize=(10,10))\n",
    "    for i,label in enumerate(labels):\n",
    "        x,y = low_dim_embs[i,:]\n",
    "        plt.scatter(x,y)\n",
    "        plt.annotate(label,xy=(x, y),xytext=(5, 2),\n",
    "                     textcoords = \"offset points\",\n",
    "                     ha = \"right\",\n",
    "                     va = \"bottom\")\n",
    "        f_text = \"vocabulary_size=%d;batch_size=%d;embedding_size=%d;skip_window=%d;num_iter=%d\"%(\n",
    "            vocabulary_size,batch_size,embedding_size,skip_window,num_iter\n",
    "        )\n",
    "        plt.figtext(0.03,0.03,f_text,color=\"green\",fontsize=10)\n",
    "    plt.show()\n",
    "    plt.savefig(filename)\n",
    "\n",
    "\n",
    "# a warning unavoidable\n",
    "tsne=TSNE(perplexity=30,n_components=2,init=\"pca\",n_iter=5000, learning_rate=200.0)\n",
    "# `index2word` has been replaced by `index_to_key`\n",
    "plot_words = embeddings.index_to_key[:plot_only]\n",
    "plot_embeddings = []\n",
    "\n",
    "for word in plot_words:\n",
    "    plot_embeddings.append(embeddings[word])\n",
    "low_dim_embs=tsne.fit_transform(plot_embeddings)\n",
    "plot_with_labels(low_dim_embs,plot_words)\n",
    "\n",
    "\n",
    "def save(embeddings):\n",
    "    dictionary = dict([(embeddings.index_to_key[i],i)for i in range(len(embeddings.index_to_key))])\n",
    "    reverse_dictionary = dict(zip(dictionary.values(),dictionary.keys()))\n",
    "    word2vec = {\"dictionary\": dictionary,\"embeddings\": embeddings,\"reverse_dictionary\": reverse_dictionary}\n",
    "    with open(vec_dir, \"wb\") as f:\n",
    "        pickle.dump(word2vec,f)\n",
    "    f.close()\n",
    "\n",
    "save(embeddings)\n",
    "end=time.time()\n",
    "print(\"Job completed in: {}\\nSaving word vectors to: {}\".format(end-start, vec_dir))"
   ]
  },
  {
   "cell_type": "markdown",
   "metadata": {},
   "source": [
    "## 2\\. Data Processing (preparations for MLP)"
   ]
  },
  {
   "cell_type": "code",
   "execution_count": 8,
   "metadata": {},
   "outputs": [],
   "source": [
    "import csv,pickle,random,json\n",
    "import numpy as np\n",
    "from keras.preprocessing.sequence import pad_sequences\n",
    "import tensorflow as tf\n",
    "from tensorflow.keras.utils import to_categorical\n",
    "from sklearn.model_selection import train_test_split\n"
   ]
  },
  {
   "cell_type": "code",
   "execution_count": 9,
   "metadata": {},
   "outputs": [],
   "source": [
    "vec_dir = \"./word2vec/word2vec.pickle\"\n",
    "pre_datas_train = \"./pre/pre_data_train.csv\"\n",
    "pre_datas_test = \"./pre/pre_data_test.csv\"\n",
    "process_datas_dir = \"./pre/process_data.pickle\""
   ]
  },
  {
   "cell_type": "code",
   "execution_count": 13,
   "metadata": {},
   "outputs": [],
   "source": [
    "def build_dataset(batch_size):\n",
    "    with open(vec_dir, \"rb\") as f:\n",
    "        word2vec = pickle.load(f)\n",
    "    f.close()\n",
    "    embeddings = word2vec[\"embeddings\"]\n",
    "    reverse_dictionary = word2vec[\"reverse_dictionary\"]\n",
    "    train_size = word2vec[\"train_size\"]\n",
    "    test_size = word2vec[\"test_size\"]\n",
    "    dims_num = word2vec[\"dims_num\"]\n",
    "    input_num = word2vec[\"input_num\"]\n",
    "    train_generator = batch_generator(pre_datas_train, train_size, batch_size, embeddings, reverse_dictionary)\n",
    "    test_generator = batch_generator(pre_datas_test, test_size, batch_size, embeddings, reverse_dictionary, train=False)\n",
    "    return train_generator,test_generator, train_size, test_size, input_num, dims_num"
   ]
  },
  {
   "cell_type": "code",
   "execution_count": 14,
   "metadata": {},
   "outputs": [
    {
     "name": "stdout",
     "output_type": "stream",
     "text": [
      "Saving word2vec to:  ./word2vec/word2vec.pickle\n",
      "Writing training data to:  ./pre/pre_data_train.csv\n",
      "Writing testing data to:  ./pre/pre_data_test.csv\n",
      "Data saved!\n"
     ]
    }
   ],
   "source": [
    "def pre_process():\n",
    "    with open(vec_dir, \"rb\") as f:\n",
    "        word2vec = pickle.load(f)\n",
    "        dictionary = word2vec[\"dictionary\"]\n",
    "        reverse_dictionary = word2vec[\"reverse_dictionary\"]\n",
    "        embeddings = word2vec[\"embeddings\"]\n",
    "    f.close()\n",
    "\n",
    "    xssed_data = []\n",
    "    normal_data = []\n",
    "\n",
    "    with open(os.path.join(data_dir, \"xssed.csv\"), \"r\", encoding=\"utf-8\") as f:\n",
    "        reader = csv.DictReader(f, fieldnames=[\"payload\"])\n",
    "        for row in reader:\n",
    "            payload = row[\"payload\"]\n",
    "            word = GeneSeg(payload)\n",
    "            xssed_data.append(word)\n",
    "    f.close()\n",
    "    with open(os.path.join(data_dir, \"dmzo_nomal.csv\"), \"r\", encoding=\"utf-8\") as f:\n",
    "        reader = csv.reader(f)\n",
    "        reader = csv.DictReader(f, fieldnames=[\"payload\"])\n",
    "        for row in reader:\n",
    "            payload = row[\"payload\"]\n",
    "            word = GeneSeg(payload)\n",
    "            normal_data.append(word)\n",
    "    f.close()\n",
    "\n",
    "    # label (1 or 0)\n",
    "    xssed_num = len(xssed_data)\n",
    "    normal_num = len(normal_data)\n",
    "    xssed_labels = [1]*xssed_num\n",
    "    normal_labels = [0]*normal_num\n",
    "    datas = xssed_data+normal_data\n",
    "    labels = xssed_labels+normal_labels\n",
    "    labels = to_categorical(labels)\n",
    "    \n",
    "    def to_index(data):\n",
    "        d_index = list()\n",
    "        for word in data:\n",
    "            if word in dictionary.keys():\n",
    "                d_index.append(dictionary[word])\n",
    "            else:\n",
    "                d_index.append(dictionary[\"UNK\"])\n",
    "        return d_index\n",
    "    datas_index = [to_index(data) for data in datas]\n",
    "    datas_index = pad_sequences(datas_index,value=-1)\n",
    "    rand = random.sample(range(len(datas_index)),len(datas_index))\n",
    "    datas = [datas_index[index] for index in rand]\n",
    "    labels = [labels[index] for index in rand]\n",
    "    train_datas, test_datas, train_labels, test_labels = train_test_split(datas, labels, test_size=0.3)\n",
    "    train_size = len(train_labels)\n",
    "    test_size = len(test_labels)\n",
    "    input_num = len(train_datas[0])\n",
    "    dims_num = embeddings[\"UNK\"].shape[0]\n",
    "    word2vec[\"train_size\"] = train_size\n",
    "    word2vec[\"test_size\"] = test_size\n",
    "    word2vec[\"input_num\"] = input_num\n",
    "    word2vec[\"dims_num\"] = dims_num\n",
    "    with open(vec_dir,\"wb\") as f :\n",
    "        pickle.dump(word2vec, f)\n",
    "    f.close()\n",
    "    print(\"Saving word2vec to: \", vec_dir)\n",
    "    print(\"Writing training data to: \", pre_datas_train)\n",
    "    with open(pre_datas_train, \"w\") as f:\n",
    "        for i in range(train_size):\n",
    "            data_line = str(train_datas[i].tolist())+\"|\"+str(train_labels[i].tolist())+\"\\n\"\n",
    "            f.write(data_line)\n",
    "    f.close()\n",
    "    print(\"Writing testing data to: \", pre_datas_test)\n",
    "    with open(pre_datas_test,\"w\") as f:\n",
    "        for i in range(test_size):\n",
    "            data_line = str(test_datas[i].tolist())+\"|\"+str(test_labels[i].tolist())+\"\\n\"\n",
    "            f.write(data_line)\n",
    "    f.close()\n",
    "    print(\"Data saved!\")\n",
    "\n",
    "\n",
    "def data_generator(data_dir):\n",
    "    reader = tf.TextLineReader()\n",
    "    queue = tf.train.string_input_producer([data_dir])\n",
    "    _, value = reader.read(queue)\n",
    "    coord = tf.train.Coordinator()\n",
    "    sess = tf.Session()\n",
    "    threads = tf.train.start_queue_runners(sess=sess, coord=coord)\n",
    "    while True:\n",
    "        v = sess.run(value)\n",
    "        [data, label] = v.split(b\"|\")\n",
    "        data = np.array(json.loads(data.decode(\"utf-8\")))\n",
    "        label = np.array(json.loads(label.decode(\"utf-8\")))\n",
    "        yield (data, label)\n",
    "    coord.request_stop()\n",
    "    coord.join(threads)\n",
    "    sess.close()\n",
    "\n",
    "\n",
    "def batch_generator(datas_dir,datas_size,batch_size,embeddings,reverse_dictionary,train=True):\n",
    "    batch_data = []\n",
    "    batch_label = []\n",
    "    generator = data_generator(datas_dir)\n",
    "    n = 0\n",
    "    while True:\n",
    "        for i in range(batch_size):\n",
    "            data,label = next(generator)\n",
    "            data_embed = []\n",
    "            for d in data:\n",
    "                if d != -1:\n",
    "                    data_embed.append(embeddings[reverse_dictionary[d]])\n",
    "                else:\n",
    "                    data_embed.append([0.0] * len(embeddings[\"UNK\"]))\n",
    "            batch_data.append(data_embed)\n",
    "            batch_label.append(label)\n",
    "            n+=1\n",
    "            if not train and n==datas_size:\n",
    "                break\n",
    "        if not train and n == datas_size:\n",
    "            yield (np.array(batch_data), np.array(batch_label))\n",
    "            break\n",
    "        else:\n",
    "            yield (np.array(batch_data),np.array(batch_label))\n",
    "            batch_data = []\n",
    "            batch_label = []\n",
    "    \n",
    "    \n",
    "pre_process()"
   ]
  },
  {
   "cell_type": "markdown",
   "metadata": {},
   "source": [
    "## 3\\. MLP"
   ]
  },
  {
   "cell_type": "code",
   "execution_count": 29,
   "metadata": {},
   "outputs": [],
   "source": [
    "import time\n",
    "import tensorflow.compat.v1 as tf\n",
    "from tensorflow.compat.v1.keras.backend import set_session\n",
    "from keras.models import Sequential\n",
    "from keras.layers import Dense,InputLayer,Dropout,Flatten\n",
    "from keras.callbacks import TensorBoard\n",
    "from tensorflow.keras.optimizers import Adam\n",
    "from keras.models import load_model\n",
    "import numpy as np\n",
    "from sklearn.metrics import precision_score,recall_score"
   ]
  },
  {
   "cell_type": "code",
   "execution_count": 30,
   "metadata": {},
   "outputs": [],
   "source": [
    "def init_session():\n",
    "    #gpu_options = tf.GPUOptions(allow_growth=True)\n",
    "    set_session(tf.compat.v1.Session())"
   ]
  },
  {
   "cell_type": "code",
   "execution_count": 34,
   "metadata": {},
   "outputs": [
    {
     "name": "stdout",
     "output_type": "stream",
     "text": [
      "Training launched!\n",
      "45/45 [==============================] - 525s 12s/step - batch: 22.0000 - size: 1000.0000 - loss: 0.2295 - accuracy: 0.9018\n",
      "INFO:tensorflow:Assets written to: ./MLP/MLP_model\\assets\n",
      "Training done in 543.409617 s\n"
     ]
    },
    {
     "name": "stderr",
     "output_type": "stream",
     "text": [
      "d:\\Files\\Projects\\PycharmProjects\\Data-Mining-Experiments\\XSS-Detection\\venv\\lib\\site-packages\\keras\\engine\\training.py:2470: UserWarning: `Model.state_updates` will be removed in a future version. This property should not be used in TensorFlow 2.0, as `updates` are applied automatically.\n",
      "  warnings.warn('`Model.state_updates` will be removed in a future version. '\n"
     ]
    },
    {
     "name": "stdout",
     "output_type": "stream",
     "text": [
      "1/20 batch\n",
      "2/20 batch\n",
      "3/20 batch\n",
      "4/20 batch\n",
      "5/20 batch\n",
      "6/20 batch\n",
      "7/20 batch\n",
      "8/20 batch\n",
      "9/20 batch\n",
      "10/20 batch\n",
      "11/20 batch\n",
      "12/20 batch\n",
      "13/20 batch\n",
      "14/20 batch\n",
      "15/20 batch\n",
      "16/20 batch\n",
      "17/20 batch\n",
      "18/20 batch\n",
      "19/20 batch\n",
      "20/20 batch\n",
      "Precision score is : 0.9982476033398618\n",
      "Recall score is : 0.9690783548483939\n"
     ]
    }
   ],
   "source": [
    "init_session()\n",
    "tf.compat.v1.disable_eager_execution()\n",
    "\n",
    "batch_size = 1000\n",
    "epochs_num = 1\n",
    "log_dir=\"./MLP/MLP.log\"\n",
    "model_dir=\"./MLP/MLP_model\"\n",
    "\n",
    "\n",
    "def train(train_generator,train_size,input_num,dims_num):\n",
    "    print(\"Training launched!\")\n",
    "    start = time.time()\n",
    "    inputs = InputLayer(input_shape=(input_num,dims_num), batch_size=batch_size)\n",
    "    layer1 = Dense(100,activation=\"relu\")\n",
    "    layer2 = Dense(20,activation=\"relu\")\n",
    "    flatten = Flatten()\n",
    "    layer3 = Dense(2,activation=\"softmax\",name=\"Output\")\n",
    "    optimizer = Adam()\n",
    "    model = Sequential()\n",
    "    model.add(inputs)\n",
    "    model.add(layer1)\n",
    "    model.add(Dropout(0.5))\n",
    "    model.add(layer2)\n",
    "    model.add(Dropout(0.5))\n",
    "    model.add(flatten)\n",
    "    model.add(layer3)\n",
    "    call = TensorBoard(log_dir=log_dir,write_grads=True,histogram_freq=1)\n",
    "    model.compile(optimizer,loss=\"categorical_crossentropy\",metrics=[\"accuracy\"])\n",
    "    model.fit_generator(train_generator,steps_per_epoch=train_size//batch_size,epochs=epochs_num,callbacks=[call])\n",
    "    # model.fit_generator(train_generator, steps_per_epoch=5, epochs=5, callbacks=[call])\n",
    "    model.save(model_dir)\n",
    "    end = time.time()\n",
    "    print(\"Training done in %f s\"%(end-start))\n",
    "\n",
    "\n",
    "def test(model_dir, test_generator, test_size, input_num, dims_num, batch_size):\n",
    "    model = load_model(model_dir)\n",
    "    labels_pre = []\n",
    "    labels_true = []\n",
    "    batch_num = test_size//batch_size+1\n",
    "    steps = 0\n",
    "    for batch, labels in test_generator:\n",
    "        if len(labels) == batch_size:\n",
    "            labels_pre.extend(model.predict_on_batch(batch))\n",
    "        else:\n",
    "            batch = np.concatenate((batch,np.zeros((batch_size-len(labels),input_num,dims_num))))\n",
    "            labels_pre.extend(model.predict_on_batch(batch)[0:len(labels)])\n",
    "        labels_true.extend(labels)\n",
    "        steps += 1\n",
    "        print(\"%d/%d batch\"%(steps,batch_num))\n",
    "    labels_pre = np.array(labels_pre).round()\n",
    "\n",
    "    def to_y(labels):\n",
    "        y=[]\n",
    "        for i in range(len(labels)):\n",
    "            if labels[i][0]==1:\n",
    "                y.append(0)\n",
    "            else:\n",
    "                y.append(1)\n",
    "        return y\n",
    "\n",
    "    y_true = to_y(labels_true)\n",
    "    y_pre = to_y(labels_pre)\n",
    "    precision = precision_score(y_true,y_pre)\n",
    "    recall = recall_score(y_true,y_pre)\n",
    "\n",
    "    print(\"Precision score is :\", precision)\n",
    "    print(\"Recall score is :\", recall)\n",
    "\n",
    "\n",
    "train_generator, test_generator, train_size, test_size, input_num, dims_num=build_dataset(batch_size)\n",
    "train(train_generator,train_size,input_num,dims_num)\n",
    "test(model_dir, test_generator, test_size, input_num, dims_num, batch_size)"
   ]
  }
 ],
 "metadata": {
  "interpreter": {
   "hash": "5367864f3f7a05c6d39034b663715a2492e7dfbaa31d48b7dc9b817b515edc35"
  },
  "kernelspec": {
   "display_name": "Python 3.9.6 64-bit ('venv': venv)",
   "name": "python3"
  },
  "language_info": {
   "codemirror_mode": {
    "name": "ipython",
    "version": 3
   },
   "file_extension": ".py",
   "mimetype": "text/x-python",
   "name": "python",
   "nbconvert_exporter": "python",
   "pygments_lexer": "ipython3",
   "version": "3.9.6"
  },
  "orig_nbformat": 4
 },
 "nbformat": 4,
 "nbformat_minor": 2
}
